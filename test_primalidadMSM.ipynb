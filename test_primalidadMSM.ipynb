{
 "cells": [
  {
   "cell_type": "markdown",
   "metadata": {},
   "source": [
    "# Test de Primalidad"
   ]
  },
  {
   "cell_type": "markdown",
   "metadata": {},
   "source": [
    "La función <span style=\"color:blue\">random</span>"
   ]
  },
  {
   "cell_type": "code",
   "execution_count": 1,
   "metadata": {
    "collapsed": false
   },
   "outputs": [],
   "source": [
    "import random\n",
    "import sympy as sp\n",
    "from fractions import gcd\n",
    "import TANMSM"
   ]
  },
  {
   "cell_type": "code",
   "execution_count": 2,
   "metadata": {
    "collapsed": false
   },
   "outputs": [
    {
     "data": {
      "text/plain": [
       "0.5789373379698732"
      ]
     },
     "execution_count": 2,
     "metadata": {},
     "output_type": "execute_result"
    }
   ],
   "source": [
    "random.random()"
   ]
  },
  {
   "cell_type": "code",
   "execution_count": 3,
   "metadata": {
    "collapsed": false
   },
   "outputs": [
    {
     "data": {
      "text/plain": [
       "4928884428L"
      ]
     },
     "execution_count": 3,
     "metadata": {},
     "output_type": "execute_result"
    }
   ],
   "source": [
    "random.randint(1, 10**10)"
   ]
  },
  {
   "cell_type": "markdown",
   "metadata": {},
   "source": [
    "## Test 1: Pseudoprimos"
   ]
  },
  {
   "cell_type": "markdown",
   "metadata": {},
   "source": [
    "- **Ejercicio 1.** Define una función <span style=\"color:red\">psp(n)</span> con salida <span style=\"color:green\">(b,true)</span> o <span style=\"color:green\">(b,false)</span> y que haga los siguiente:\n",
    "    1. Elige una base $b$ al azar.\n",
    "    2. Comprueba si $gcd(b,n)=1$. \n",
    "        - Si es falso la función termina con la salida: \n",
    "            - <span style=\"color:green\"> print $gcd(b,n)$ es divisor de $n$</span>.\n",
    "            - (b,false)\n",
    "        - Si es cierto comprueba si $b^{(n-1)}\\equiv 1 \\mbox{ mod } n$, \n",
    "            - Si es falso la salida es <span style=\"color:green\">(b,false)</span>.\n",
    "            - Si es cierto la salida es <span style=\"color:green\">(b,true)</span>. "
   ]
  },
  {
   "cell_type": "markdown",
   "metadata": {},
   "source": [
    "## <span style=\"color:orange\">Ejercicio 1</span>"
   ]
  },
  {
   "cell_type": "code",
   "execution_count": 4,
   "metadata": {
    "collapsed": true
   },
   "outputs": [],
   "source": [
    "#Funcion psp(n) con salida (b,true) o (b,false) \n",
    "def psp(n):\n",
    "    b=random.randint(1,n-1)#Tomamos una base positiva al alzar y que sea menor que n, ya que n no nos interesa sabemos que si es divisor\n",
    "    if gcd(b,n)!=1:#Vemos si la base es divisor de n, con el mcd\n",
    "        print \"El MCD(\"+str(b)+\",\"+str(n)+\")=\"+str(sp.gcd(n,b))\n",
    "        return (b,False)\n",
    "    else:#Si MCD= 1 hacemos la otra comprobación\n",
    "        if pow(b,n-1,n)!=1:#Comprobamos el b^(n-1) =1 %n\n",
    "            return (b,False)\n",
    "        else:\n",
    "            return (b,True) \n",
    "        "
   ]
  },
  {
   "cell_type": "markdown",
   "metadata": {},
   "source": [
    "- **Ejecicio 2.** Define una función <span style=\"color:red\">psp(n,k)</span> que realice hasta k veces la función <span style=\"color:red\">psp(n)</span>. \n",
    "    - Si en algún momento n falla el test la función termina con <span style=\"color:green\">(b,false</span>,\n",
    "    con b la base para la cual n falla el test. \n",
    "    - Si pasa el test para las k bases elegidas la salida será:\n",
    "        - <span style=\"color:green\"> print \"es posible que n sea primo\"</span>\n",
    "        - <span style=\"color:green\"> retun (b,true)</span>\n",
    "   puedes poner la última base o las k bases que has ido eligiendo.\n",
    "    "
   ]
  },
  {
   "cell_type": "markdown",
   "metadata": {},
   "source": [
    "## <span style=\"color:orange\">Ejercicio 2</span>"
   ]
  },
  {
   "cell_type": "code",
   "execution_count": 5,
   "metadata": {
    "collapsed": false
   },
   "outputs": [],
   "source": [
    "#Funcion pspKveces recursiva de psp\n",
    "def pspKVeces(n,k):\n",
    "    b=0\n",
    "    for i in range(0,k):#Llamamos a la funcion psp k veces\n",
    "        recursivo = psp(n)\n",
    "        b=recursivo[0]#almacenamos la base\n",
    "        #print str(b) # Si queremos comprobar que hace las k bases\n",
    "        if not recursivo[1]:# Comprobamos el valor de booleano, si es false lo deolvemos\n",
    "            return recursivo\n",
    "    print \"Es posible que \" +str(n) + \" sea primo\"\n",
    "    return (b,True)\n",
    "        "
   ]
  },
  {
   "cell_type": "markdown",
   "metadata": {},
   "source": [
    "## Test 2: Pseudo primos de Euler. Test de Slovay-Strassen"
   ]
  },
  {
   "cell_type": "markdown",
   "metadata": {},
   "source": [
    "EL símbolo de Jacobi"
   ]
  },
  {
   "cell_type": "code",
   "execution_count": 6,
   "metadata": {
    "collapsed": true
   },
   "outputs": [],
   "source": [
    " from sympy.ntheory import jacobi_symbol"
   ]
  },
  {
   "cell_type": "code",
   "execution_count": 7,
   "metadata": {
    "collapsed": false
   },
   "outputs": [
    {
     "data": {
      "text/plain": [
       "-1"
      ]
     },
     "execution_count": 7,
     "metadata": {},
     "output_type": "execute_result"
    }
   ],
   "source": [
    "jacobi_symbol(7,45)"
   ]
  },
  {
   "cell_type": "markdown",
   "metadata": {},
   "source": [
    "Recordamos que $n$ es pseudo primo de Euler respecto a la base $b$ si:\n",
    "\n",
    "- $n$ es impar, \n",
    "$$\\qquad$$\n",
    "\n",
    "- $gcd(b,n)=1$ y \n",
    "$$\\qquad$$\n",
    "\n",
    "- $b^{\\frac{n-1}{2}}\\equiv jacobi(b,n) \\mbox{ mod } n$."
   ]
  },
  {
   "cell_type": "markdown",
   "metadata": {},
   "source": [
    "- **Ejercicio 3.** Define la función <span style=\"color:red\">epsp(n)</span> que:\n",
    "    1. Si $n$ es par tiene como salida:\n",
    "        - <span style=\"color:green\">print n es par</span>\n",
    "        - <span style=\"color:green\">return (2,false)</span>\n",
    "    2. Elije una base $b$ al azar.\n",
    "    3. Comprueba si $gcd(b,n)=1$ \n",
    "       - Si es falso la función termina con:\n",
    "         - <span style=\"color:green\">print gcd(b,n) es divisor de n</span> \n",
    "         - <span style=\"color:green\"> return (b,false)</span> \n",
    "       - Si es cierto comprueba si $b^{\\frac{n-1}{2}} \\equiv jacobi(b,n) \\mbox{ mod } n$, \n",
    "          - si es falso la salida es <span style=\"color:green\">(b,false)</span>,\n",
    "          - si es cierto la salida es <span style=\"color:green\">(b,true)</span>. "
   ]
  },
  {
   "cell_type": "markdown",
   "metadata": {},
   "source": [
    "## <span style=\"color:orange\">Ejercicio 3 </span>"
   ]
  },
  {
   "cell_type": "code",
   "execution_count": 8,
   "metadata": {
    "collapsed": true
   },
   "outputs": [],
   "source": [
    "#Funcion epsp que le pasamos nuestro n y devuelve una base y booleano\n",
    "def epsp(n):\n",
    "    if(n%2==0):#Comprobamos si el numero es par\n",
    "        print str(n)+\" es par\"\n",
    "        return (2,False)\n",
    "    b=random.randint(2,n-1)#Base al alzar\n",
    "    if gcd(b,n)!=1:#Si el MCD no es 1 \n",
    "        print str(gcd(n,b)) + \" es divisor de \" + str(n)\n",
    "        return (b,False)\n",
    "    else:#Si MCD es 1 hacemos las comprobaciones\n",
    "        if pow(b,(n-1)/2,n) == jacobi_symbol(b,n)%n :#Comprobamos la igualdad\n",
    "            return (b,True)\n",
    "        else:\n",
    "            return (b,False)"
   ]
  },
  {
   "cell_type": "markdown",
   "metadata": {},
   "source": [
    "- **Ejercicio 4.** Define una función <span style=\"color:red\">epsp(n,k)</span> que realice hasta k veces el test 2. \n",
    "    - Si en algún momento $n$ falla el test la función termina con <span style=\"color:green\">(b,false)</span>,\n",
    "      con $b$ la base para la cual $n$ no pasa el test. \n",
    "    - Si $n$ pasa el test para las $k$ bases elegidas la salida será:\n",
    "        - <span style=\"color:green\"> print es posible que n sea primo</span>\n",
    "        - <span style=\"color:green\"> return (b,true)</span>, puedes poner las última base o las k bases."
   ]
  },
  {
   "cell_type": "markdown",
   "metadata": {},
   "source": [
    "## <span style=\"color:orange\">Ejercicio 4</span>"
   ]
  },
  {
   "cell_type": "code",
   "execution_count": 9,
   "metadata": {
    "collapsed": true
   },
   "outputs": [],
   "source": [
    "#Funcion epspKVeces que realiza epsp k veces\n",
    "def epspKVeces(n,k):\n",
    "    b= 0\n",
    "    for i in range(1,k):#Llamamos a la funcion spsp k veces de forma recursiva\n",
    "        recursivoEuler=epsp(n)\n",
    "        b= recursivoEuler[0]#Saco la base\n",
    "        #print str(b)#Comprobar que hace las k bases\n",
    "        if not recursivoEuler[1]:#Compruebo el valor del booleano, si es falso lo devolvemos\n",
    "            return recursivoEuler\n",
    "    print \"Es posible que \"+str(n)+ \" sea primo\"\n",
    "    return (b,True)"
   ]
  },
  {
   "cell_type": "markdown",
   "metadata": {},
   "source": [
    "## Test 3. Fuertemente pseudoprimos. Test de Miller-Rabin"
   ]
  },
  {
   "cell_type": "markdown",
   "metadata": {},
   "source": [
    "Recordar que $n$ es ***fuertemente pseudoprimo*** respecto a la base $b$ si: \n",
    "   - $n$ es impar, \n",
    "   - $gcd(b,n)=1$ y \n",
    "   - Si escribimos $n=2^s t$, con $t$ impar, entonces:\n",
    "       - $b^t \\equiv 1 \\mbox{ mod } n$ o bien,\n",
    "       - existe $i=0,1,\\ldots,s-1$ tal que $b^{t * 2^i}\\equiv -1 \\mbox{ mod } n$."
   ]
  },
  {
   "cell_type": "markdown",
   "metadata": {},
   "source": [
    "- **Ejercicio 5.** Define una función <span style=\"color:red\">mpot(p,m)</span> que calcule la mayor potencia de $p$ que divide a $m$. \n",
    "\n",
    "No usar funciones que factoricen m."
   ]
  },
  {
   "cell_type": "markdown",
   "metadata": {},
   "source": [
    "## <span style=\"color:orange\">Ejercicio 5</span>"
   ]
  },
  {
   "cell_type": "code",
   "execution_count": 10,
   "metadata": {
    "collapsed": true
   },
   "outputs": [],
   "source": [
    "#Funcion mpot que nos devuelve la mayor potencia p que divide a m\n",
    "def mpot(p,m):\n",
    "    potencia=p#Almacenamos el valor de nuestra potencia\n",
    "    n_potencias = 0 #Almacenamos el numero de veces que esta la potencia\n",
    "    while m%potencia == 0:\n",
    "        n_potencias = n_potencias +1#Aumento el contador\n",
    "        potencia= potencia*p#Actualizo a la potencia\n",
    "    return n_potencias\n"
   ]
  },
  {
   "cell_type": "markdown",
   "metadata": {},
   "source": [
    "- **Ejercicio 6.**  Define una función <span style=\"color:red\">fpsp(n)</span> que:\n",
    "    - **1.** Si $n$ es par tiene como salida <span style=\"color:green\"> print n es par, return (2,false)</span>.\n",
    "    - **2.** En otro caso:\n",
    "        - **2.1.** Calcule $s$ y $t$ tales que $n-1 = 2^s t$, con $t$ impar.\n",
    "        - **2.2.** Elije una base $b$ al azar.\n",
    "        - **2.3.** Comprueba si $gcd(b,n)=1$ \n",
    "             - ***2.3.1.*** Si es falso la función termina con <span style=\"color:green\"> print gcd(b,n) es divisor de n, return (b false)</span>. \n",
    "             - ***2.3.2.*** Si es cierto comprueba si $b^t= \\pm  1\\mbox{ mod } n$: \n",
    "                  - ***2.3.2.1.*** Si es cierto la salida es <span style=\"color:green\">(b,true)</span>, \n",
    "                  - ***2.3.2.2.*** Si es falso comprueba:\n",
    "                      - **2.3.2.2.1.** Si existe un $i=1,\\ldots,s-1$ tal que $b^{t*2^i}\\equiv  -1 \\mbox{ mod } n$ la salida es <span style=\"color:green\">(i,b,true)</span> (sacar i es opcional).\n",
    "                      - **2.3.2.2.2.** Si no existe tal $i$ la salida es <span style=\"color:green\">(b, false)</span> . \n"
   ]
  },
  {
   "cell_type": "markdown",
   "metadata": {},
   "source": [
    "## <span style=\"color:orange\">Ejercicio 6</span>"
   ]
  },
  {
   "cell_type": "code",
   "execution_count": 11,
   "metadata": {
    "collapsed": true
   },
   "outputs": [],
   "source": [
    "def fpsp(n):\n",
    "    if n%2==0:#Comprobamos si el numero es par y acabamos\n",
    "        print str(n)+\" es par\"\n",
    "        return(2,False)\n",
    "    else:#Si el numero es impar\n",
    "        s=mpot(2,n-1)#Calculamos la mayor potencia ya que el otro numero es impar\n",
    "        t=(n-1)/pow(2,s)#dividimos n-1 entre la potencia anterior\n",
    "        base = random.randint(1,n-1) #tomamos la base aleatoria\n",
    "        if gcd(base,n)!=1:\n",
    "            print str(gcd(base,n))+\" es divisor de \"+ str(n)\n",
    "            return (base,False)\n",
    "        else:\n",
    "            if pow(base,t,n)==1 or pow(base,t,n)==(-1%n):#Si es cierto Base^t %n =1 \n",
    "                return(base,True)\n",
    "            else:\n",
    "                for i in range(1,s):#Comprobar si para algun i se rerifica la ecuacion\n",
    "                    if pow(base,t*pow(2,i),n)==(-1%n):\n",
    "                        #return (i,base,True)\n",
    "                        return (base,True)\n",
    "            return(base,False)\n",
    "                \n"
   ]
  },
  {
   "cell_type": "markdown",
   "metadata": {},
   "source": [
    "- **Ejercicio 7.**  Define una función <span style=\"color:red\">fpsp(n,k)</span>  que aplique hasta $k$ veces el test 3. \n",
    "    - Si en algún momento $n$ no pasa el test la función termina con <span style=\"color:green\">(b,false)</span>.\n",
    "    - Si $n$ pasa el test para las $k$ bases elegidas la salida será <span style=\"color:green\">print es posible que n sea primo, (bases, true)</span>"
   ]
  },
  {
   "cell_type": "markdown",
   "metadata": {},
   "source": [
    "## <span style=\"color:orange\">Ejercicio 7</span>"
   ]
  },
  {
   "cell_type": "code",
   "execution_count": 12,
   "metadata": {
    "collapsed": false
   },
   "outputs": [],
   "source": [
    "def fpspKVeces(n,k):\n",
    "    bases = []#Almacenamos todas lsa bases que usamos\n",
    "    for i in range (0,k):#Realizamos las iteraciones\n",
    "        pseudoprimo = fpsp(n)#Llamamos a la función anterior del ejercicio6\n",
    "        bases.append(pseudoprimo[0])#Almaceno el valor de la base\n",
    "        if not pseudoprimo [1]:#Vemos el valor del booleano\n",
    "            return pseudoprimo\n",
    "    print \" es posible que \" + str(n)+\" sea primo\"\n",
    "    return(bases, True)"
   ]
  },
  {
   "cell_type": "markdown",
   "metadata": {},
   "source": [
    "## Comparaciones"
   ]
  },
  {
   "cell_type": "markdown",
   "metadata": {},
   "source": [
    "- **Ejercicio 8.** Comprueba los tres tests, usando números grandes y algún número de Carmichael, y compáralos con el test de Sympy <span style=\"color:blue\">isprime</span>  "
   ]
  },
  {
   "cell_type": "markdown",
   "metadata": {},
   "source": [
    "## <span style=\"color:orange\">Ejercicio 8</span>"
   ]
  },
  {
   "cell_type": "code",
   "execution_count": 13,
   "metadata": {
    "collapsed": true
   },
   "outputs": [],
   "source": [
    "from sympy import *"
   ]
  },
  {
   "cell_type": "code",
   "execution_count": 14,
   "metadata": {
    "collapsed": true
   },
   "outputs": [],
   "source": [
    "#Trabajamos con un numero grande aleatorio\n",
    "numero_grande = 45216389542875961487535419425862537157"
   ]
  },
  {
   "cell_type": "markdown",
   "metadata": {},
   "source": [
    "Comenzamos probando los 3 test con el numero grande y a continuacion pasamos isprime con ese numero"
   ]
  },
  {
   "cell_type": "code",
   "execution_count": 15,
   "metadata": {
    "collapsed": false
   },
   "outputs": [
    {
     "name": "stdout",
     "output_type": "stream",
     "text": [
      "Test psp  (21800884031521659413897791428320045192L, False)\n"
     ]
    }
   ],
   "source": [
    "print \"Test psp  \" + str(psp(numero_grande))"
   ]
  },
  {
   "cell_type": "code",
   "execution_count": 16,
   "metadata": {
    "collapsed": false
   },
   "outputs": [
    {
     "name": "stdout",
     "output_type": "stream",
     "text": [
      "Test epsp (25515954608164620679722609050248186220L, False)\n"
     ]
    }
   ],
   "source": [
    "print \"Test epsp \" + str(epsp(numero_grande))"
   ]
  },
  {
   "cell_type": "code",
   "execution_count": 17,
   "metadata": {
    "collapsed": false
   },
   "outputs": [
    {
     "name": "stdout",
     "output_type": "stream",
     "text": [
      "Test fpsp (2048082120227131157689904113986878954L, False)\n"
     ]
    }
   ],
   "source": [
    "print \"Test fpsp \" + str(fpsp(numero_grande))"
   ]
  },
  {
   "cell_type": "code",
   "execution_count": 18,
   "metadata": {
    "collapsed": false
   },
   "outputs": [
    {
     "data": {
      "text/plain": [
       "False"
      ]
     },
     "execution_count": 18,
     "metadata": {},
     "output_type": "execute_result"
    }
   ],
   "source": [
    "isprime(numero_grande)"
   ]
  },
  {
   "cell_type": "code",
   "execution_count": 19,
   "metadata": {
    "collapsed": false
   },
   "outputs": [
    {
     "name": "stdout",
     "output_type": "stream",
     "text": [
      "El MCD(5100021612208569490291655132352774444,45216389542875961487535419425862537157)=3\n",
      "Test pspKVeces  (5100021612208569490291655132352774444L, False)\n",
      "57 es divisor de 45216389542875961487535419425862537157\n",
      "Test epspKVeces (35570188267095700689051251701870196856L, False)\n",
      "3 es divisor de 45216389542875961487535419425862537157\n",
      "Test fpspKVeces (40229073569241010546159688521460727219L, False)\n"
     ]
    }
   ],
   "source": [
    "print \"Test pspKVeces  \" + str(pspKVeces(numero_grande,5))\n",
    "print \"Test epspKVeces \" + str(epspKVeces(numero_grande,5))\n",
    "print \"Test fpspKVeces \" + str(fpspKVeces(numero_grande,5))"
   ]
  },
  {
   "cell_type": "markdown",
   "metadata": {},
   "source": [
    "Tomo ahora el siguiente primo a este numero grande para probar estas mismas funciones con un <span style=\"color:red\">numero primo</span>"
   ]
  },
  {
   "cell_type": "code",
   "execution_count": 20,
   "metadata": {
    "collapsed": true
   },
   "outputs": [],
   "source": [
    "#Aseguramos que sea primo y que sea grande\n",
    "primo = sp.nextprime(numero_grande)"
   ]
  },
  {
   "cell_type": "code",
   "execution_count": 21,
   "metadata": {
    "collapsed": false
   },
   "outputs": [
    {
     "data": {
      "text/plain": [
       "True"
      ]
     },
     "execution_count": 21,
     "metadata": {},
     "output_type": "execute_result"
    }
   ],
   "source": [
    "isprime(primo)"
   ]
  },
  {
   "cell_type": "code",
   "execution_count": 22,
   "metadata": {
    "collapsed": false
   },
   "outputs": [
    {
     "name": "stdout",
     "output_type": "stream",
     "text": [
      "Test psp  (13674723511160645495339768470026307881L, True)\n"
     ]
    }
   ],
   "source": [
    "print \"Test psp  \" + str(psp(primo))"
   ]
  },
  {
   "cell_type": "code",
   "execution_count": 23,
   "metadata": {
    "collapsed": false
   },
   "outputs": [
    {
     "name": "stdout",
     "output_type": "stream",
     "text": [
      "Test epsp (25555147601064828918723326804001327763L, True)\n"
     ]
    }
   ],
   "source": [
    "print \"Test epsp \" + str(epsp(primo))"
   ]
  },
  {
   "cell_type": "code",
   "execution_count": 24,
   "metadata": {
    "collapsed": false
   },
   "outputs": [
    {
     "name": "stdout",
     "output_type": "stream",
     "text": [
      "Test fpsp (32856644195911877830584555462017551739L, True)\n"
     ]
    }
   ],
   "source": [
    "print \"Test fpsp \" + str(fpsp(primo))"
   ]
  },
  {
   "cell_type": "markdown",
   "metadata": {},
   "source": [
    "Podemos comprobar que devuelve true ya que estamos trabajando con el numero primo"
   ]
  },
  {
   "cell_type": "code",
   "execution_count": 25,
   "metadata": {
    "collapsed": false
   },
   "outputs": [
    {
     "name": "stdout",
     "output_type": "stream",
     "text": [
      "Es posible que 45216389542875961487535419425862537173 sea primo\n",
      "Test pspKVeces  (39789259457854573486384792655899507930L, True)\n",
      "Es posible que 45216389542875961487535419425862537173 sea primo\n",
      "Test epspKVeces (18642576722381443623003604487263705140L, True)\n",
      " es posible que 45216389542875961487535419425862537173 sea primo\n",
      "Test fpspKVeces ([21668907631245525357475359334932008445L, 3903160886603593291208753002398293995L, 30696205334632987680157340691806880556L, 37665230243110138088937525214382124878L], True)\n"
     ]
    }
   ],
   "source": [
    "print \"Test pspKVeces  \" + str(pspKVeces(primo,4))\n",
    "print \"Test epspKVeces \" + str(epspKVeces(primo,4))\n",
    "print \"Test fpspKVeces \" + str(fpspKVeces(primo,4))"
   ]
  },
  {
   "cell_type": "markdown",
   "metadata": {},
   "source": [
    "##### Carmichael"
   ]
  },
  {
   "cell_type": "code",
   "execution_count": 26,
   "metadata": {
    "collapsed": true
   },
   "outputs": [],
   "source": [
    "#Tomo un numero de Carmichael\n",
    "carmichael = 2821"
   ]
  },
  {
   "cell_type": "code",
   "execution_count": 27,
   "metadata": {
    "collapsed": false
   },
   "outputs": [
    {
     "data": {
      "text/plain": [
       "False"
      ]
     },
     "execution_count": 27,
     "metadata": {},
     "output_type": "execute_result"
    }
   ],
   "source": [
    "#Vemos si es primo\n",
    "isprime(carmichael)"
   ]
  },
  {
   "cell_type": "markdown",
   "metadata": {},
   "source": [
    "* Vamos haciendo los distintos test para este numero y vemos si nos devuelve primo"
   ]
  },
  {
   "cell_type": "code",
   "execution_count": 28,
   "metadata": {
    "collapsed": false
   },
   "outputs": [
    {
     "name": "stdout",
     "output_type": "stream",
     "text": [
      "Test psp  (1416, True)\n"
     ]
    }
   ],
   "source": [
    "print \"Test psp  \" + str(psp(carmichael))"
   ]
  },
  {
   "cell_type": "code",
   "execution_count": 29,
   "metadata": {
    "collapsed": false
   },
   "outputs": [
    {
     "name": "stdout",
     "output_type": "stream",
     "text": [
      "Test epsp (1268, False)\n"
     ]
    }
   ],
   "source": [
    "print \"Test epsp \" + str(epsp(carmichael))"
   ]
  },
  {
   "cell_type": "code",
   "execution_count": 30,
   "metadata": {
    "collapsed": false
   },
   "outputs": [
    {
     "name": "stdout",
     "output_type": "stream",
     "text": [
      "7 es divisor de 2821\n",
      "Test fpsp (147, False)\n"
     ]
    }
   ],
   "source": [
    "print \"Test fpsp \" + str(fpsp(carmichael))"
   ]
  },
  {
   "cell_type": "markdown",
   "metadata": {},
   "source": [
    "* Hacemos lo mismo pero con los test con un numero de repeticiones en este caso 4"
   ]
  },
  {
   "cell_type": "code",
   "execution_count": 31,
   "metadata": {
    "collapsed": false
   },
   "outputs": [
    {
     "name": "stdout",
     "output_type": "stream",
     "text": [
      "Es posible que 2821 sea primo\n",
      "Test pspKVeces (2745, True)\n",
      "Test epspKVeces (1731, False)\n",
      "Test fpspKveces (375, False)\n"
     ]
    }
   ],
   "source": [
    "print \"Test pspKVeces \" + str(pspKVeces(carmichael,4))\n",
    "print \"Test epspKVeces \" + str(epspKVeces(carmichael,4))\n",
    "print \"Test fpspKveces \" + str(fpspKVeces(carmichael,4))"
   ]
  }
 ],
 "metadata": {
  "kernelspec": {
   "display_name": "Python 2",
   "language": "python",
   "name": "python2"
  },
  "language_info": {
   "codemirror_mode": {
    "name": "ipython",
    "version": 2
   },
   "file_extension": ".py",
   "mimetype": "text/x-python",
   "name": "python",
   "nbconvert_exporter": "python",
   "pygments_lexer": "ipython2",
   "version": "2.7.11"
  }
 },
 "nbformat": 4,
 "nbformat_minor": 0
}
