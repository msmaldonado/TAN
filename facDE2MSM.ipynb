{
 "cells": [
  {
   "cell_type": "markdown",
   "metadata": {},
   "source": [
    "# Factorización en anillos de enteros de cuerpos cuadráticos $\\mathbb{Q}(\\sqrt{d})$, con $d>0$."
   ]
  },
  {
   "cell_type": "markdown",
   "metadata": {},
   "source": [
    "Vamos a estudiar como factorizar en los anillos de enteros $\\mathbb{O}$ de cuerpos cuadráticos $\\mathbb{Q}(\\sqrt{d})$ con $d>0$, en el caso en que $\\mathbb O$ sea un D.E. Recordar que esto ocurre cuando \n",
    "$$\n",
    "d=2,3,5,6,7,11,13,17,19,21,29,33,37,41,57,73.\n",
    "$$\n",
    "\n",
    "Para poder llevar una notación homogénea vamos a denotar \n",
    "$$ \n",
    "e = \\sqrt d \\quad\\mbox{si}\\quad d\\not\\equiv 1\\mod 4 \\quad  \\mbox{y} \\\\  \\quad e = \\frac{1+\\sqrt d}{2} \\quad \\quad\\mbox{si}\\quad d\\equiv 1\\mod 4\n",
    "$$\n",
    "\n",
    "Un elemento de $\\mathbb{O}$ será una expresión de la forma $\\alpha=a+b*e$, con $a,b\\in \\mathbb{Z}$. "
   ]
  },
  {
   "cell_type": "markdown",
   "metadata": {},
   "source": [
    "El algoritmo de factorización es estos anillos es básicamente el mismo que para el caso $d<0$. La diferencia estriba principalmente en el cálculo de los elementos con una determinada norma.\n",
    "\n",
    "El primer problema que tenemos que resolver es el cálculo de conjugados ya que, en este caso, el conjugado de un elemento de $\\mathbb Q(\\sqrt d )$ no es el conjugado complejo."
   ]
  },
  {
   "cell_type": "code",
   "execution_count": 1,
   "metadata": {
    "collapsed": true
   },
   "outputs": [],
   "source": [
    "from sympy import *"
   ]
  },
  {
   "cell_type": "code",
   "execution_count": 2,
   "metadata": {
    "collapsed": false
   },
   "outputs": [
    {
     "data": {
      "text/plain": [
       "1"
      ]
     },
     "execution_count": 2,
     "metadata": {},
     "output_type": "execute_result"
    }
   ],
   "source": [
    "29%4"
   ]
  },
  {
   "cell_type": "markdown",
   "metadata": {},
   "source": [
    "Por tanto tomamos:"
   ]
  },
  {
   "cell_type": "code",
   "execution_count": 3,
   "metadata": {
    "collapsed": true
   },
   "outputs": [],
   "source": [
    "e1=(1+sqrt(29))/2"
   ]
  },
  {
   "cell_type": "code",
   "execution_count": 4,
   "metadata": {
    "collapsed": false
   },
   "outputs": [
    {
     "data": {
      "text/plain": [
       "1/2 + sqrt(29)/2"
      ]
     },
     "execution_count": 4,
     "metadata": {},
     "output_type": "execute_result"
    }
   ],
   "source": [
    "e1"
   ]
  },
  {
   "cell_type": "markdown",
   "metadata": {},
   "source": [
    "Intoducimos algunos elementos del anillo de enteros"
   ]
  },
  {
   "cell_type": "code",
   "execution_count": 5,
   "metadata": {
    "collapsed": false
   },
   "outputs": [],
   "source": [
    "alpha= simplify(2-17*e1);\n",
    "beta= simplify(5-6*e1)\n",
    "alpha1=Rational(1,2)+Rational(3,2)*sqrt(29)"
   ]
  },
  {
   "cell_type": "code",
   "execution_count": 6,
   "metadata": {
    "collapsed": false
   },
   "outputs": [
    {
     "data": {
      "text/plain": [
       "(-17*sqrt(29)/2 - 13/2, -3*sqrt(29) + 2, 1/2 + 3*sqrt(29)/2, 4*sqrt(29) + 727)"
      ]
     },
     "execution_count": 6,
     "metadata": {},
     "output_type": "execute_result"
    }
   ],
   "source": [
    "(alpha, beta, alpha1, simplify(alpha*beta+alpha1))"
   ]
  },
  {
   "cell_type": "markdown",
   "metadata": {},
   "source": [
    "Vemos que hace la función conjugate"
   ]
  },
  {
   "cell_type": "code",
   "execution_count": 7,
   "metadata": {
    "collapsed": false
   },
   "outputs": [
    {
     "data": {
      "text/plain": [
       "-17*sqrt(29)/2 - 13/2"
      ]
     },
     "execution_count": 7,
     "metadata": {},
     "output_type": "execute_result"
    }
   ],
   "source": [
    "alpha.conjugate()"
   ]
  },
  {
   "cell_type": "markdown",
   "metadata": {},
   "source": [
    "Por tanto $\\alpha .conjugate()=\\alpha$ y no nos vale."
   ]
  },
  {
   "cell_type": "markdown",
   "metadata": {},
   "source": [
    "## La función <span style=\"color:red\">xy($\\alpha$,d)</span>."
   ]
  },
  {
   "cell_type": "markdown",
   "metadata": {},
   "source": [
    "Cualquier elemento $\\alpha\\in \\mathbb Q(\\sqrt d)$ se escribe como $\\alpha=x+y*\\sqrt d$ con $x,y \\in \\mathbb Q$, pero no podemos utilizar el conjugado para recuperara $x$ e $y$. "
   ]
  },
  {
   "cell_type": "markdown",
   "metadata": {},
   "source": [
    "#### La función <span style=\"color:red\">args</span>.\n",
    "\n",
    "Para definir la función <span style=\"color:red\">xy($\\alpha$,d)</span> podemos utilizar la función <span style=\"color:red\">args</span>, pero hay que utilizarla con cuidado, pongo algunos ejemplos:"
   ]
  },
  {
   "cell_type": "code",
   "execution_count": 8,
   "metadata": {
    "collapsed": false
   },
   "outputs": [],
   "source": [
    "a1=2\n",
    "a2=Rational(1,2)\n",
    "a3=sqrt(29)\n",
    "a4=3*sqrt(29)\n",
    "a5=Rational(1,2)*sqrt(29)\n",
    "a6=Rational(3,2)\n",
    "a7=Rational(5,2)*sqrt(29)\n",
    "a8=Rational(3,2)+Rational(5,2)*sqrt(29)"
   ]
  },
  {
   "cell_type": "code",
   "execution_count": 9,
   "metadata": {
    "collapsed": false
   },
   "outputs": [
    {
     "data": {
      "text/plain": [
       "(3/2, 5*sqrt(29)/2)"
      ]
     },
     "execution_count": 9,
     "metadata": {},
     "output_type": "execute_result"
    }
   ],
   "source": [
    "a8.args"
   ]
  },
  {
   "cell_type": "code",
   "execution_count": 10,
   "metadata": {
    "collapsed": false
   },
   "outputs": [
    {
     "data": {
      "text/plain": [
       "(5/2, sqrt(29))"
      ]
     },
     "execution_count": 10,
     "metadata": {},
     "output_type": "execute_result"
    }
   ],
   "source": [
    "a7.args"
   ]
  },
  {
   "cell_type": "code",
   "execution_count": 11,
   "metadata": {
    "collapsed": false
   },
   "outputs": [
    {
     "data": {
      "text/plain": [
       "()"
      ]
     },
     "execution_count": 11,
     "metadata": {},
     "output_type": "execute_result"
    }
   ],
   "source": [
    "a6.args"
   ]
  },
  {
   "cell_type": "code",
   "execution_count": 12,
   "metadata": {
    "collapsed": false
   },
   "outputs": [
    {
     "data": {
      "text/plain": [
       "(1/2, sqrt(29))"
      ]
     },
     "execution_count": 12,
     "metadata": {},
     "output_type": "execute_result"
    }
   ],
   "source": [
    "a5.args"
   ]
  },
  {
   "cell_type": "code",
   "execution_count": 13,
   "metadata": {
    "collapsed": false
   },
   "outputs": [
    {
     "data": {
      "text/plain": [
       "(3, sqrt(29))"
      ]
     },
     "execution_count": 13,
     "metadata": {},
     "output_type": "execute_result"
    }
   ],
   "source": [
    "a4.args"
   ]
  },
  {
   "cell_type": "code",
   "execution_count": 14,
   "metadata": {
    "collapsed": false
   },
   "outputs": [
    {
     "data": {
      "text/plain": [
       "(29, 1/2)"
      ]
     },
     "execution_count": 14,
     "metadata": {},
     "output_type": "execute_result"
    }
   ],
   "source": [
    "a3.args"
   ]
  },
  {
   "cell_type": "code",
   "execution_count": 15,
   "metadata": {
    "collapsed": false
   },
   "outputs": [
    {
     "data": {
      "text/plain": [
       "()"
      ]
     },
     "execution_count": 15,
     "metadata": {},
     "output_type": "execute_result"
    }
   ],
   "source": [
    "a2.args"
   ]
  },
  {
   "cell_type": "code",
   "execution_count": 16,
   "metadata": {
    "collapsed": false
   },
   "outputs": [],
   "source": [
    "#a1.args"
   ]
  },
  {
   "cell_type": "markdown",
   "metadata": {},
   "source": [
    "**Ejercicio 1.-** Redefine la función <span style=\"color:red\">xy($\\alpha$,d)</span>, de la tarea anterior, para que valga tanto para $d<0$ como para $d>0$. \n",
    "\n",
    "Para definir esta función <span style=\"color:red\">xy($\\alpha$,d)</span> puedes usar la funcione <span style=\"color:red\">args</span> o cualquier otra función de Python que encuentres. Pero, asegúrate de que <span style=\"color:red\">xy($\\alpha$,d)</span> hace lo que debe en los distintos casos que se pueden dar. "
   ]
  },
  {
   "cell_type": "code",
   "execution_count": 17,
   "metadata": {
    "collapsed": true
   },
   "outputs": [],
   "source": [
    "#Ejercicio 1 funcion xy\n",
    "def xy(alpha,d):\n",
    "    if d<0:#con d < 0\n",
    "        if type(alpha) in [int,float,long]:\n",
    "            return (alpha,0)\n",
    "        elif type(alpha)==complex:# si es complejo\n",
    "            return(alpha.real,alpha.imag/sqrt(-d))\n",
    "        else:# en el otro caso\n",
    "            alpha_complex=alpha.as_real_imag()\n",
    "            return (alpha_complex[0],alpha_complex[1]/sqrt(-d))\n",
    "    else: # Para d >0\n",
    "        if type(alpha) in [int,float,long]:\n",
    "            return (alpha,0)\n",
    "        else:\n",
    "            if(alpha.args == ()):\n",
    "                return(alpha,0)\n",
    "            elif(alpha.args[1] == sqrt(d)):\n",
    "                if(alpha-alpha.args[0]*sqrt(d)==0):\n",
    "                    return(0, alpha.args[0])\n",
    "                else:\n",
    "                    return(alpha.args[0],alpha.args[1]/sqrt(d))\n",
    "            elif alpha.args == (d, Rational(1,2)):\n",
    "                return (0,1)\n",
    "            else:\n",
    "                return (alpha.args[0], alpha.args[1]/sqrt(d))\n",
    "                \n",
    "        "
   ]
  },
  {
   "cell_type": "markdown",
   "metadata": {},
   "source": [
    "## El resto de las funciones auxiliares"
   ]
  },
  {
   "cell_type": "markdown",
   "metadata": {},
   "source": [
    "**Ejercicio 2.-** Redefine las siguientes funciones de la tarea factDE1 para que funcionen tanto para $d<0$ como para $d>0$:\n",
    "\n",
    "- <span style=\"color:red\">norma($\\alpha$,d)</span>, \n",
    "- <span style=\"color:red\">traza($\\alpha$,d)</span>,\n",
    "- <span style=\"color:red\">es_entero($\\alpha$,d)</span>,\n",
    "- <span style=\"color:red\">ab($\\alpha$,d)</span>, \n",
    "- <span style=\"color:red\">divide($\\alpha,\\beta$,d)</span>,\n",
    "- <span style=\"color:red\">cociente($\\alpha,\\beta$,d)</span> y\n",
    "- <span style=\"color:red\">es_unidad($\\alpha$,d)</span>."
   ]
  },
  {
   "cell_type": "code",
   "execution_count": 18,
   "metadata": {
    "collapsed": false
   },
   "outputs": [],
   "source": [
    "#Ejercicio 2 (norma)\n",
    "def norma(alpha,d):#Vemos que tipo es \n",
    "    if type(alpha) in [int,float,long]:\n",
    "        return alpha**2\n",
    "    else:\n",
    "        if d<0:#si d es < 0\n",
    "            return (alpha*alpha.conjugate()).as_real_imag()[0]\n",
    "        else :\n",
    "            aux=xy(alpha,d)\n",
    "            return pow(aux[0],2) - d*pow(aux[1],2)\n",
    "    \n"
   ]
  },
  {
   "cell_type": "code",
   "execution_count": 19,
   "metadata": {
    "collapsed": true
   },
   "outputs": [],
   "source": [
    "#Ejercicio 2 (traza)\n",
    "def traza(alpha,d):    \n",
    "    if type(alpha) in [int,float,long]:\n",
    "        return 2*alpha\n",
    "    else:\n",
    "        if d<0:\n",
    "            return (alpha+alpha.conjugate()).as_real_imag()[0]\n",
    "        else:\n",
    "            return 2*xy(alpha,d)[0]\n"
   ]
  },
  {
   "cell_type": "code",
   "execution_count": 20,
   "metadata": {
    "collapsed": true
   },
   "outputs": [],
   "source": [
    "#Ejercicio2 (es_entero)\n",
    "#Es la misma función que la practica anterior pero llamamos a la nueva norma y traza\n",
    "def es_entero(alpha,d):\n",
    "    if norma(alpha,d)%1==0 and traza(alpha,d)%1==0 :\n",
    "        return True\n",
    "    else :\n",
    "        return False"
   ]
  },
  {
   "cell_type": "code",
   "execution_count": 21,
   "metadata": {
    "collapsed": true
   },
   "outputs": [],
   "source": [
    "#Ejercicio 2 (ab)\n",
    "def ab(alpha,d):\n",
    "    if(es_entero(alpha,d)):#Vemos si es entero\n",
    "        if(d %4 == 1):#Si d es congruente 1 modulo 4 devuelvo la tupla \n",
    "            par=xy(alpha,d)\n",
    "            a=(par[0]-par[1])\n",
    "            b=2*par[1]        \n",
    "            return (a,b)\n",
    "        else:\n",
    "            return xy(alpha,d)      \n",
    "    else:\n",
    "        return None"
   ]
  },
  {
   "cell_type": "code",
   "execution_count": 22,
   "metadata": {
    "collapsed": true
   },
   "outputs": [],
   "source": [
    "#Ejercicio 2 (divide)\n",
    "def divide(alpha,beta,d):\n",
    "    return es_entero(simplify(beta/alpha),d)\n",
    "   "
   ]
  },
  {
   "cell_type": "code",
   "execution_count": 23,
   "metadata": {
    "collapsed": true
   },
   "outputs": [],
   "source": [
    "#Ejercicio 2 (cociente)\n",
    "def cociente(alpha,beta,d):\n",
    "    if(divide(alpha,beta,d)):#si divide almaceno los valores \n",
    "        a=xy(alpha,d)\n",
    "        b=xy(beta,d)        \n",
    "        x=b[0]\n",
    "        y=b[1]\n",
    "        t=a[0]\n",
    "        s=a[1]\n",
    "        \n",
    "        return Rational(x*t-y*s*d,t**2-d*s**2)+ Rational(- x*s + y*t,t**2-d*s**2)*sqrt(d)#devuelvo la operacion\n",
    "    else :\n",
    "        return None"
   ]
  },
  {
   "cell_type": "code",
   "execution_count": 24,
   "metadata": {
    "collapsed": true
   },
   "outputs": [],
   "source": [
    "#Ejercicio 2 (es_unidad)\n",
    "def es_unidad(alpha,d):#Vemos si es unidad mirando la norma\n",
    "    if (norma(alpha,d)==1 or norma(alpha,d) == -1):\n",
    "        return True\n",
    "    else:\n",
    "        return False"
   ]
  },
  {
   "cell_type": "markdown",
   "metadata": {},
   "source": [
    "# La ecuación de Pell general $$x^2-d*y^2=n.$$"
   ]
  },
  {
   "cell_type": "markdown",
   "metadata": {},
   "source": [
    "Cuando $d>0$ esta ecuación tiene infinitas soluciones o ninguna.\n",
    "\n",
    "El método de resolución que aquí presentamos está basado en el articulo de J.P. Robertson ***\"Solving the general Pell equation $x^2-Dy^2=N$\".*** Que podéis encontrar en http://www.jpr2718.org/pell.pdf.\n",
    "\n",
    "Recordar que $d$ debe ser un entero positivo libre de cuadrados. "
   ]
  },
  {
   "cell_type": "markdown",
   "metadata": {},
   "source": [
    "**Ejercicio 3.-** Define una función <span style=\"color:red\">libre_de_cuadrados(d)</span> con salida true o false según $d$ sea o no libre de cuadrados. "
   ]
  },
  {
   "cell_type": "code",
   "execution_count": 25,
   "metadata": {
    "collapsed": true
   },
   "outputs": [],
   "source": [
    "#Ejercicio 3 (libre_de_cuadrados)\n",
    "#Devuelve true  cuando d es libre de cuadrados\n",
    "def libre_de_cuadrados(d):\n",
    "    for i in factorint(d).values():#compruebo que todos valen 1\n",
    "        if i!=1:\n",
    "            return False      \n",
    "    return True\n",
    "    "
   ]
  },
  {
   "cell_type": "markdown",
   "metadata": {},
   "source": [
    "## La ecuación de Pell  $$x^2-d*y^2=1.$$"
   ]
  },
  {
   "cell_type": "markdown",
   "metadata": {},
   "source": [
    "Para resolver la ecuación general de Pell primero deberemos resolverla para el caso $n=1$.\n",
    "\n",
    "Procedemos de la siguiente forma:\n",
    "\n",
    "- Calculamos la fracción continua asociada a $\\sqrt d$, \n",
    "<center> F = <span style=\"color:green\"> continued_fraction_periodic </span>(0,1,d)=$[a_0,[a_1,\\ldots,a_r]]$.</center>\n",
    "- Definimos la lista $$L=[a_0,a_1,\\ldots,a_{r-1}].$$\n",
    "**Notar que:** $a_r=2*a_0$.\n",
    "- Calculamos los <span style=\"color:green\">convergentes continued_fraction_convergents</span>(L).\n",
    "- Tomamos $x_0$ e $y_0$ el numerador y el denominador, respectivamente, del último convergente.\n",
    "- Entonces $(x_0,y_0)$ es una solución de:\n",
    "$$                \n",
    "x_0^2-d*y_0^2 =  1  \\quad \\mbox{si len(L) es par} \\\\\n",
    "x_0^2-d*y_0^2 = -1  \\quad \\mbox{si len(L) es impar}.\n",
    "$$\n",
    "\n",
    "**NOTAR QUE:** Si $u=x_0+y_0*\\sqrt d$ tiene norma -1 entonces $u^2$ tiene norma 1. \n",
    "\n",
    "Esto nos permite encontrar siempre una solución de la ecuación $x^2-d*y^2=1$, aunque len(L) sea impar. "
   ]
  },
  {
   "cell_type": "markdown",
   "metadata": {
    "collapsed": true
   },
   "source": [
    "**Ejercicio 4.-** Define una función <span style=\"color:red\">pell(d)</span> para resolver la ecuación de Pell anterior."
   ]
  },
  {
   "cell_type": "code",
   "execution_count": 26,
   "metadata": {
    "collapsed": true
   },
   "outputs": [],
   "source": [
    "#Ejercicio 4 (pell)\n",
    "def pell(d):\n",
    "    F = continued_fraction_periodic(0,1,d)#Fracion continua asociada\n",
    "    L = [F[0]]+F[1]#Formamos la lista\n",
    "    L.pop() #quitamos el ultimo elemento\n",
    "    if len(L) %2 == 0:#Mirar si el tamaño es par\n",
    "        return fraction(list(continued_fraction_convergents(L))[-1])\n",
    "    else:\n",
    "        (a,b)=fraction(list(continued_fraction_convergents(L))[-1])\n",
    "        return (a**2+d*b**2,2*a*b)\n",
    "        "
   ]
  },
  {
   "cell_type": "markdown",
   "metadata": {},
   "source": [
    "## La ecuación de Pell general $$x^2-d*y^2=n.$$"
   ]
  },
  {
   "cell_type": "markdown",
   "metadata": {},
   "source": [
    "La ecuación general de Pell $x^2- d*y^2 = n$ tiene infinitas o ninguna solución. \n",
    "\n",
    "Si esta ecuación tiene solución hay unas pocas que generan todas las demás, \n",
    "estas son llamadas **soluciones generadoras** (ver el artículo de Robertson).\n",
    "\n",
    "Para resolver la ecuación $x^2-d*y^2=n$ (con $d$ libre de cuadrados) procedemos de la siguiente forma:\n",
    "\n",
    " - Calculamos una solución de la ecuación $x^2-d*y^2=1$. Supongamos esta $(r,s)$ ($r$ y $s$ positivos).\n",
    " - Calculamos las cotas para $y$. \n",
    " \n",
    " Estas serán:\n",
    "            \n",
    "  - Si $n>0,\\quad 0\\leq y \\leq \\sqrt{\\frac{n*(r-1)}{2d}}$.\n",
    "  \n",
    "  - Si $n<0, \\quad\\sqrt{\\frac{-n}{d}}\\leq y \\leq \\sqrt{\\frac{-n*(r+1)}{2d}}$.\n",
    "\n",
    " - Para $y$ entre las cotas, formamos la lista de aquellos $x^2=d*y^2+n$ que son un cuadrado. Si ninguno de estos elementos es un cuadrado, la ecuación no tienen solución. En otro caso:\n",
    " - Las soluciones generadoras serán $(±x,y)$."
   ]
  },
  {
   "cell_type": "markdown",
   "metadata": {
    "collapsed": true
   },
   "source": [
    "**Ejercicio 5.-** Define una función <span style=\"color:red\">generalpell(d,n)</span> para resolver la ecuación general de Pell. Pon varios ejemplos, algunos en los que se tenga solución y otros no, y comprueba los resultados."
   ]
  },
  {
   "cell_type": "code",
   "execution_count": 27,
   "metadata": {
    "collapsed": false
   },
   "outputs": [],
   "source": [
    "#Ejercicio 5 (generalpell)\n",
    "def generalpell(d,n):\n",
    "    if libre_de_cuadrados(d):\n",
    "        (r,s)=pell(d)\n",
    "        soluciones=[]\n",
    "        if n>0:#Miro en que rango está la n\n",
    "            for probable_y in range(floor(sqrt(Rational(n*(r-1),2*d)))+1):\n",
    "                if(ask(Q.integer(sqrt(n+d*pow(probable_y,2))))): #si se cumple meto las posibles combinaciones\n",
    "                    soluciones.append((sqrt(n+d*pow(probable_y,2)), probable_y))\n",
    "                    soluciones.append((-sqrt(n+d*pow(probable_y,2)), probable_y))\n",
    "\n",
    "        else:\n",
    "            for probable_y in range(floor(sqrt(Rational(-n,d))),floor(sqrt(Rational(-n*(r+1),2*d)))+1):\n",
    "                if(ask(Q.integer(sqrt(n+d*pow(probable_y,2))))):#si se cumple meto las posibles combinaciones\n",
    "                    soluciones.append((sqrt(n+d*pow(probable_y,2)), probable_y))\n",
    "                    soluciones.append((-sqrt(n+d*pow(probable_y,2)), probable_y))\n",
    "                    \n",
    "    return soluciones"
   ]
  },
  {
   "cell_type": "markdown",
   "metadata": {},
   "source": [
    "### Resto de las funciones auxiliares que involucran la resolución de ecuaciones de Pell."
   ]
  },
  {
   "cell_type": "markdown",
   "metadata": {},
   "source": [
    "**Ejercicio 6.-** Redefine las siguientes funciones de la tarea factDE1 para que funcionen tanto para $d<0$ como para $d>0$:\n",
    "\n",
    "- <span style=\"color:red\">es_irreducible($\\alpha$,d)</span>,\n",
    "- <span style=\"color:red\">connorma(n,d)</span>."
   ]
  },
  {
   "cell_type": "code",
   "execution_count": 28,
   "metadata": {
    "collapsed": true
   },
   "outputs": [],
   "source": [
    "#Ejercicio 6 (es_irreducible)\n",
    "def eqpell(n,d):\n",
    "    Soluciones=[]\n",
    "    for probable_y in range(floor(sqrt(Rational(n,-d)))):\n",
    "        if(sqrt(n+d*pow(probable_y,2)) == floor(sqrt(n+d*pow(probable_y,2)))):  #Todas las combinaciones de parejas posibles               \n",
    "            Soluciones.append((sqrt(n+d*pow(probable_y,2)),probable_y))\n",
    "            Soluciones.append((-sqrt(n+d*pow(probable_y,2)),-probable_y))\n",
    "            Soluciones.append((sqrt(n+d*pow(probable_y,2)),-probable_y))\n",
    "            Soluciones.append((-sqrt(n+d*pow(probable_y,2)),probable_y))\n",
    "    return Soluciones\n",
    "\n",
    "def es_irreducible(alpha,d):#Vemos si es irreducible si es unidad \n",
    "    if d<0:\n",
    "        if isprime(norma(alpha,d)):#Si es primo\n",
    "            return True\n",
    "        elif ask(Q.integer(sqrt(norma(alpha,d)))):\n",
    "            return isprime(sqrt(norma(alpha,d))) and connorma(sqrt(norma(alpha,d)), d)==[]\n",
    "        else:\n",
    "            return False\n",
    "    \n",
    "    else:\n",
    "        if isprime(abs(norma(alpha,d))):#Primo el valor absoluto\n",
    "            return True\n",
    "        elif ask(Q.integer(sqrt(abs(norma(alpha,d))))):\n",
    "            return isprime(sqrt(abs(norma(alpha,d)))) and connorma(sqrt(abs(norma(alpha,d))), d)==[] and connorma(-sqrt(abs(norma(alpha,d))), d)==[]\n",
    "        else:\n",
    "            return False\n",
    "    \n"
   ]
  },
  {
   "cell_type": "code",
   "execution_count": 29,
   "metadata": {
    "collapsed": false
   },
   "outputs": [],
   "source": [
    "#Funcion Connorma\n",
    "def connorma(n,d):\n",
    "    salida=[]\n",
    "    if d>0:\n",
    "        if(d%4!=1):#Comprobamos d modulo 4 distinto del 1 del caso 1\n",
    "            myPell=generalpell(d,n)\n",
    "            for i in myPell:#Recorro los Pell para ver cual seria valido\n",
    "                salida.append(i[0]+i[1]*sqrt(d))#almacenamos en mi lista de salida\n",
    "        else:#Nos vamos al caso2\n",
    "            myPell=generalpell(d,4*n)\n",
    "            for i in myPell:#Recorro los Pell para ver cual seria valido\n",
    "                miPosible=Rational(i[0],2)+Rational(i[1],2)*sqrt(d)\n",
    "                if(es_entero(miPosible,d)):\n",
    "                    salida.append(miPosible)#almacenamos en mi lista de salida\n",
    "    else:\n",
    "        if(d%4!=1):#Comprobamos d modulo 4 distinto del 1 del caso 1\n",
    "            myPell=eqpell(n,d)\n",
    "            for i in myPell:#Recorro los Pell para ver cual seria valido\n",
    "                salida.append(i[0]+i[1]*sqrt(d))\n",
    "        else:#Nos vamos al caso2\n",
    "            myPell=eqpell(4*n,d)\n",
    "            for i in myPell:#Recorro los Pell para ver cual seria valido\n",
    "                miPosible=Rational(i[0],2)+Rational(i[1],2)*sqrt(d)\n",
    "                if(es_entero(miPosible)):\n",
    "                    salida.append(miPosible)#almacenamos en mi lista de salida\n",
    " \n",
    "    return salida\n",
    "    \n",
    "    "
   ]
  },
  {
   "cell_type": "markdown",
   "metadata": {},
   "source": [
    "## Algoritmo de factorización."
   ]
  },
  {
   "cell_type": "markdown",
   "metadata": {},
   "source": [
    "- ** Imput: ** Un entero algebraico $\\alpha\\in \\mathbb Q(\\sqrt d)$ que no es una unidad, con $d$ un entero libre de cuadrados tal que el anillo de enteros de $\\mathbb Q(\\sqrt d)$ es un DE.\n",
    "- ** Output: ** Una lista de enteros irreducibles $[\\alpha_1,\\ldots,\\alpha_r]$ tal que $\\alpha=\\alpha_1\\ldots \\alpha_r$.\n",
    "\n",
    "   - ** Paso 1.-** Calcular la norma de $\\alpha$ y factorizarla en $\\mathbb Z$,\n",
    "   $$norma(\\alpha)=p_1^{e_1} p_2^{e_2}\\ldots p_s^{e_s}.$$\n",
    "   - ** Paso 2.-** Calculamos la lista de enteros con norma $p_1$:\n",
    "   $$L=connorma(p_1,d)$$\n",
    "        - Si $L=\\emptyset$ entonces $p_1$ es irreducible, comprobamos si $\\alpha_1=p_1$ divide a $\\alpha$.\n",
    "        - En otro caso, para cada $\\alpha_1\\in L$ comprobamos si $\\alpha_1$ divide a $\\alpha$.\n",
    "   \n",
    "   Si $s>1$ en el paso 2 debemos encontrar un divisor propio $\\alpha_1$ de $\\alpha$. Tomamos \n",
    "   $$\\alpha=cociente(\\alpha_1,\\alpha)$$\n",
    "      y volvemos al paso 1. \n",
    "\n",
    "El algoritmo acaba cuando $\\alpha$ es unidad o irreducible."
   ]
  },
  {
   "cell_type": "code",
   "execution_count": 30,
   "metadata": {
    "collapsed": true
   },
   "outputs": [],
   "source": [
    "#Algortimo de factorizacion\n",
    "def Factoriza(alpha,d) :\n",
    "    alpha_1=1 #Nestro alpha que introducimos en la lsita \n",
    "    factorizacion=[]#Nuestra lista de salida \n",
    "    \n",
    "    while not (es_unidad(alpha,d) or es_irreducible(alpha,d)):\n",
    "        factores_norma=factorint(norma(alpha,d))#saco los factores \n",
    "        p=max(factores_norma)#Sacamos nuestro p1\n",
    "        L= connorma(p,d) + connorma(-p,d)#Sera la connorma (p1,d)\n",
    "        if(L==[]):#Si es vacio \n",
    "            if(divide(p,alpha,d)):#comprobamos si p1 divide a alpha\n",
    "                alpha_1=p\n",
    "                factorizacion.append(alpha_1)\n",
    "        else:  #si la lista no es vacia \n",
    "            for elem in L:#para cada elementio alpha1 vemos si lo divide a alpha \n",
    "                if(divide(elem,alpha,d)):\n",
    "                    alpha_1=elem#Actualizo el alpha1 y lo añado a la lista de factorizacion\n",
    "                    factorizacion.append(alpha_1)\n",
    "                    break \n",
    "        #Busco el divisor propio\n",
    "        alpha=cociente(alpha_1,alpha,d)\n",
    "        if(alpha_1==1):\n",
    "            break\n",
    "    if alpha != 1 :\n",
    "        factorizacion.append(alpha)\n",
    "\n",
    "    return factorizacion "
   ]
  },
  {
   "cell_type": "markdown",
   "metadata": {},
   "source": [
    "** Ejercicio 7.-** Toma como $k$ el número de tu DNI o pasaporte (quita todas las letras) y toma $d$ el entero libre de cuadrados que no sea congruente con 1 módulo 4 más cercano a $k%100$.\n",
    "\n",
    "Elije $\\alpha$ un entero en $\\mathbb Q(\\sqrt d)$ y factorizalo aplicando el algoritmo anterior paso a paso. Asegúrate de elegir un $\\alpha$ con al menos tres factores. Asegúrate también que la factorización que obtienes es correcta.\n",
    "\n",
    "** Ejercicio 8.-** Toma como $k$ el número de tu DNI o pasaporte (quita todas las letras) y toma $d$ el entero libre de cuadrados que sea congruente con 1 módulo 4 más cercano a $k%100$.\n",
    "\n",
    "Elije $\\alpha$ un entero en $\\mathbb Q(\\sqrt d)$ y factorizalo aplicando el algoritmo anterior paso a paso. Asegúrate de elegir un $\\alpha$ con al menos tres factores. Asegúrate también que la factorización que obtienes es correcta."
   ]
  },
  {
   "cell_type": "code",
   "execution_count": 31,
   "metadata": {
    "collapsed": false
   },
   "outputs": [
    {
     "data": {
      "text/plain": [
       "[7, 2*sqrt(19) + 9, -2*sqrt(19) + 9]"
      ]
     },
     "execution_count": 31,
     "metadata": {},
     "output_type": "execute_result"
    }
   ],
   "source": [
    "k = 20078633\n",
    "33%4\n",
    "29%4\n",
    "21%4\n",
    "19 %4 \n",
    "#ME quedo con d=19 ya que el más cercano a mi dni sería el propio 33 pero 33%4 sale 1 y la primera d que encontrabamos más cercana\n",
    "#a 33 es el 19. \n",
    "Factoriza(35,19)"
   ]
  },
  {
   "cell_type": "markdown",
   "metadata": {},
   "source": [
    "** Ejercicio 9 (Avanzado).-** Define una función <span style=\"color:red\">factoriza($\\alpha$,d)</span> para factorizar un elemento $\\alpha$ en el anillo de enteros de $\\mathbb Q (\\sqrt d )$, que funcione tanto para $d<0$ como para $d>0$. Aplica esta función a los elementos factorizados en los ejercicios 7 y 8, y asegúrate de que obtienes resultados compatibles."
   ]
  },
  {
   "cell_type": "markdown",
   "metadata": {
    "collapsed": true
   },
   "source": [
    "## Nota:\n",
    "\n",
    "Comprueba que la función <span style=\"color:red\">factoriza($\\alpha$,d)</span> funciona tanto para $d$ positivo como negativo. Coge los ejemplos de la práctica anterior y mira que se obtiene el mismo resultado."
   ]
  }
 ],
 "metadata": {
  "kernelspec": {
   "display_name": "Python 2",
   "language": "python",
   "name": "python2"
  },
  "language_info": {
   "codemirror_mode": {
    "name": "ipython",
    "version": 2
   },
   "file_extension": ".py",
   "mimetype": "text/x-python",
   "name": "python",
   "nbconvert_exporter": "python",
   "pygments_lexer": "ipython2",
   "version": "2.7.11"
  }
 },
 "nbformat": 4,
 "nbformat_minor": 0
}
