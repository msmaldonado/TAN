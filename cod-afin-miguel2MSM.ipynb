{
 "cells": [
  {
   "cell_type": "markdown",
   "metadata": {},
   "source": [
    "#  Codificación Afín"
   ]
  },
  {
   "cell_type": "markdown",
   "metadata": {},
   "source": [
    "## Algoritmo de codificación afín:\n",
    "\n",
    "- **Entrada:** \n",
    "   - Un mensaje ( tipo str).\n",
    "   - Llaves $a,b,n$\n",
    "- **Salida:** una lista de números.\n",
    "    - *Paso 1.-* Convertir el mensaje en una lista de palabras. Usando la función <span style=\"color:red\">lista_palabras</span> de la práctica mensaje_vs_listashexa.\n",
    "    - *Paso 2.-* Convertir la lista de palabras del paso 1 en una lista de números en hexadecimal. Usando la función <span style=\"color:red\">str_to_hexalist</span> de la práctica mensaje_vs_listashexa.\n",
    "    - *Paso 3.-* Convertir la lista de números en hexadecimal obtenida en el paso 2 en una lista de números en decimal.\n",
    "    - *Paso 4.-* Aplicar a cada x en la lista de números obtenida en el paso 3 la transformación afín $x\\mapsto a*x+b \\mod n$.\n"
   ]
  },
  {
   "cell_type": "code",
   "execution_count": 1,
   "metadata": {
    "collapsed": false
   },
   "outputs": [],
   "source": [
    "from TANMSM import *\n",
    "from fractions import gcd"
   ]
  },
  {
   "cell_type": "markdown",
   "metadata": {},
   "source": [
    "### Ejercicios:\n",
    "\n",
    "- ***Ejercicio 1.-*** Define una función <span style=\"color:red\">cod_afin(mensaje,a,b,n)</span> que codifique, siguiendo el algoritmo anterior, el mensaje utilizando las llaves $a, b$ y $n$.\n",
    "- ***Ejercicio 2.-*** Define una función <span style=\"color:red\">deco_afin(lista,a,b,n)</span>  para decodificar.\n"
   ]
  },
  {
   "cell_type": "markdown",
   "metadata": {},
   "source": [
    "###  <span style=\"color:blue\">Ejercicio 1</span>\n",
    "Define una función <span style=\"color:red\">cod_afin(mensaje,a,b,n)</span> que codifique, siguiendo el algoritmo anterior, el mensaje utilizando las llaves $a, b$ y $n$.\n",
    "#### <span style=\"color:purple\">Solución</span>\n",
    "Comenzamos comprobando si a y n son primos relativos, es decir el maximo comun divisor es 1, si no es devolvemos que a y n no son primos. A continuación obtenemos el mensaje separado por palabras y todas ellas en hexadecimal. Seguidamente recorremos toda la lista hexadecimal y cada palabra la pasamos a su respectivo decimal y luego lo codificado mendiante la aplicación afín , todo esto lo almacenamos en una lista nueva que será la que devolvemos. "
   ]
  },
  {
   "cell_type": "code",
   "execution_count": 2,
   "metadata": {
    "collapsed": false
   },
   "outputs": [],
   "source": [
    "#Función de parametros mensaje,a,b,n que nos codificará un mensaje\n",
    "def cod_afin(mensaje,a,b,n):\n",
    "    if gcd(a,n)==1:#mcd(a,n) es 1\n",
    "        lista_hexadecimal=str_to_hexalist(mensaje)#mensaje a hexadecimal\n",
    "        lista_codificada=[]\n",
    "        for i in lista_hexadecimal:\n",
    "            decimal = hextodec_it(i)#hexadecimal a decimal\n",
    "            lista_codificada.append((a*int(decimal)+b)%n)#el decimal transformado por la aplicación afin\n",
    "        return lista_codificada      \n",
    "    else:\n",
    "        print \"mcd(a,n) no es 1. \""
   ]
  },
  {
   "cell_type": "markdown",
   "metadata": {},
   "source": [
    "### <span style=\"color:blue\">Ejercicio 2</span>\n",
    "Define una función <span style=\"color:red\">deco_afin(lista,a,b,n)</span>  para decodificar.\n",
    "#### <span style=\"color:purple\">Solución</span>\n",
    "En esta función la lista que pasamos a la funcion tiene el mensaje ya codificado, asi que lo primero que hacemos es recorrer toda la lista y aplicar a cada decimal la aplicación afin inversa de la codificación para así obtener el decimal.Y ahora cada decimal lo pasamos a hexadecimal y lo almacenamos en una lista de hexadecimales. Cuando tenemos tenemos todos los hexadecimales usamos la función de las practicas anterior <span style=\"color:green\">hexalist_to_str</span> para obtener la cadena que será el mensaje"
   ]
  },
  {
   "cell_type": "code",
   "execution_count": 3,
   "metadata": {
    "collapsed": true
   },
   "outputs": [],
   "source": [
    "#Funcion que recibe una lista codificada,a,b,n y nos devuelve el mensaje original\n",
    "def deco_afin(lista,a,b,n):\n",
    "    lista_hexadecimal = []\n",
    "    for i in lista:\n",
    "        decimal = ((int(i) - b)/a)%n #aplicacion afin inversa para obtener el decimal\n",
    "        lista_hexadecimal.append(dectohex_rec(int(decimal)))#pasamos el decimal a hexadecimal y se guarda en una lista\n",
    "    mensaje = hexalist_to_str(lista_hexadecimal)# obtenemos el mensaje\n",
    "    return mensaje"
   ]
  },
  {
   "cell_type": "markdown",
   "metadata": {
    "collapsed": true
   },
   "source": [
    "## <span style=\"color:blue\">Ejercicio 3</span>  Hemos interceptado la siguiente conversación por whatsApp\n",
    "   - **Juan:** Hola Pepe, mándame tu emilio que se me ha olvidado.\n",
    "   - **Pepe:** Tio!!!! ya se que los wasas no los suelen pillar pero ¿quien sabe?. Aquí lo tienes\n",
    "    <span style=\"color:blue\">$$239395827813103217446417939412897930401063L$$</span>\n",
    "    \n",
    " Poco después interceptamos el siguiente mensaje \n",
    " \n",
    "From: Juan Perez <camello@hotmail.com>;\n",
    "\n",
    "To: PePePote <nombre@gmail.com>;\n",
    "\n",
    "Subject: me falta material\n",
    "\n",
    "Sent: Tue, Nov 3, 2015 11:33:52 AM \n",
    "\n",
    "<span style=\"color:blue\">[734461933241186417139753L,\n",
    " 3423232041L,\n",
    " 279048452422856319996551209L,\n",
    " 1033071336087238287712297L,\n",
    " 974621794345L,\n",
    " 57111833162833961L,\n",
    " 15623803945160695849L,\n",
    " 27025449L,\n",
    " 60467473930543145L,\n",
    " 3668513721263846613033L,\n",
    " 3388760105L,\n",
    " 17334517580104451101254318972969L,\n",
    " 26763305L,\n",
    " 60467473930543145L,\n",
    " 3779622034147474300969L,\n",
    " 27287593L,\n",
    " 60467473930543145L,\n",
    " 264466043694263907761414185L,\n",
    " 27549737L,\n",
    " 60467473930543145L,\n",
    " 1011702180066720474247122611532881961L,\n",
    " 422543777833L,\n",
    " 60467473930543145L,\n",
    " 3596316486929834991657L,\n",
    " 31744041L,\n",
    " 150370730663977L,\n",
    " 63301989269004329L,\n",
    " 974621794345L,\n",
    " 3690749993L,\n",
    " 16776694611574284329L,\n",
    " 58761092179189801L,\n",
    " 931002867753L,\n",
    " 4072327277505418911785L,\n",
    " 854162563113L,\n",
    " 65516448670572585L,\n",
    " 279010673496068621964304425L,\n",
    " 974621794345L,\n",
    " 16195758769567457321L,\n",
    " 974621794345L,\n",
    " 240419345292453720480047145L,\n",
    " 245091871776809L,\n",
    " 218660676591657L,\n",
    " 3423494185L,\n",
    " 61056768743465001L,\n",
    " 3522977833L,\n",
    " 58760954239148073L,\n",
    " 75164731049239781261347938345L]</span>\n",
    "\n",
    "Además sabemos que estos tíos van a lo grande por lo que hemos deducido que la palabra que más se repite en el mensaje es kilos.\n",
    "\n",
    "Cuando estábamos desesperados, porque no lográbamos descifrar la conversación, interceptamos la siguiente conversación:\n",
    "   - **Pepe:** ¿que coj@n@s de número has usado para hacer el módulo?\n",
    "   - **Juan:** Tanta seguridad y ahora me preguntas eso....$$553612260071847767819357303824754235825777.$$\n",
    "   \n",
    "\n",
    "Descifra el mensaje a ver si podemos usarlo como prueba incriminatoria para poner a estos dos a la sombra.\n",
    "\n",
    "**Nota:** Sustituye la variable 'nombre' en la dirección de correo de Pepe por tu nombre en minúscula."
   ]
  },
  {
   "cell_type": "markdown",
   "metadata": {},
   "source": [
    "### <span style=\"color:purple\">Solución</span>\n",
    "+ Vamos a descifrar el mensaje, para ello vamos a usar todas las pistas que tenemos de forma directa o indirecta.\n",
    "Tenemos la dirreción de correo de forma codificada que fue interceptada en la conversación, además sabemos la direción de correo original por tanto usaremos una función que nos convierta el string en un número decimal. Asi tendremos la dirección correo en forma decimal así como el correo en un decimal con la transformación afin aplicada.\n",
    "Otra pista que tenemos es que se usa mucho la palabra kilos, por tanto en nuestro correo codificado buscaremos la palabra que aparece más y esa corresponderá con kilos (codificada). Usando la misma función que para el correo  podemos convertir la cadena kilos en un decimal. \n",
    "Por último, la ultima conversación nos desvela el número con el que hace módulo, que será nuestra n. "
   ]
  },
  {
   "cell_type": "markdown",
   "metadata": {},
   "source": [
    "\n",
    "- ***Guardamos*** las dos variables que conocemos, nuestra n el decimal que corresponde con la dirección de correo codificada. Además del correo codificado."
   ]
  },
  {
   "cell_type": "code",
   "execution_count": 4,
   "metadata": {
    "collapsed": true
   },
   "outputs": [],
   "source": [
    "#Variables conocidas directamente\n",
    "#el correo codificado;\n",
    "#valor de n\n",
    "#dirección de correo codificada\n",
    "correo_codificado = [734461933241186417139753L, 3423232041L, 279048452422856319996551209L, 1033071336087238287712297L, 974621794345L, 57111833162833961L, 15623803945160695849L, 27025449L, 60467473930543145L, 3668513721263846613033L, 3388760105L, 17334517580104451101254318972969L, 26763305L, 60467473930543145L, 3779622034147474300969L, 27287593L, 60467473930543145L, 264466043694263907761414185L, 27549737L, 60467473930543145L, 1011702180066720474247122611532881961L, 422543777833L, 60467473930543145L, 3596316486929834991657L, 31744041L, 150370730663977L, 63301989269004329L, 974621794345L, 3690749993L, 16776694611574284329L, 58761092179189801L, 931002867753L, 4072327277505418911785L, 854162563113L, 65516448670572585L, 279010673496068621964304425L, 974621794345L, 16195758769567457321L, 974621794345L, 240419345292453720480047145L, 245091871776809L, 218660676591657L, 3423494185L, 61056768743465001L, 3522977833L, 58760954239148073L, 75164731049239781261347938345L]\n",
    "n=553612260071847767819357303824754235825777\n",
    "dir_correo_cod=239395827813103217446417939412897930401063L"
   ]
  },
  {
   "cell_type": "markdown",
   "metadata": {},
   "source": [
    "\n",
    "- Ahora vamos a ***definir*** una función que obtengamos dado un string su correspondiente decimal. Para convertir la palabra <span style=\"color:red\">kilos</span> y el <span style=\"color:red\">correo</span>, en nuestro caso <miguel@gmail.com>"
   ]
  },
  {
   "cell_type": "code",
   "execution_count": 5,
   "metadata": {
    "collapsed": true
   },
   "outputs": [],
   "source": [
    "#Función que recibe un str y nos devuelve su valor en decimal\n",
    "def str_to_decimal(palabra):\n",
    "    #La palabra la pasamos a hexadecimal con encode. Ese hexadecimal lo pasamos a decimal con la funcón hextodec_it definida en practicas anteriores\n",
    "    decimal=hextodec_it(palabra.encode('hex'))\n",
    "    return decimal"
   ]
  },
  {
   "cell_type": "code",
   "execution_count": 6,
   "metadata": {
    "collapsed": false
   },
   "outputs": [],
   "source": [
    "#dos variables que obtenemos de forma indirecta\n",
    "kilos_decimal=str_to_decimal(\"kilos\") \n",
    "correo_decimal=str_to_decimal(\"miguel@gmail.com\")"
   ]
  },
  {
   "cell_type": "markdown",
   "metadata": {},
   "source": [
    "- A continuación vamos a ***definir*** una función que tenga de entrada un mensaje separado por palabra convertidas en decimal y nos devuelva el numero decimal más repetido"
   ]
  },
  {
   "cell_type": "code",
   "execution_count": 7,
   "metadata": {
    "collapsed": true
   },
   "outputs": [],
   "source": [
    "#Funcion que nos busca en una lista cual es el elemento que mas se repite\n",
    "def palabra_repetida(mensaje):\n",
    "    maximo=0\n",
    "    elemento_repetido=0\n",
    "    for i in mensaje:\n",
    "        numero = mensaje.count(i)#Vemos cual es el numero de veces que aparece el elemento\n",
    "        if numero > maximo:#Si aparece mas veces que nuestro maximo, actualizamos el valor del maximo y del elemento máximo\n",
    "            maximo=numero\n",
    "            elemento_repetido = i\n",
    "    return elemento_repetido       "
   ]
  },
  {
   "cell_type": "code",
   "execution_count": 8,
   "metadata": {
    "collapsed": false
   },
   "outputs": [],
   "source": [
    "#Obtenemos la palabra kilo en forma decimal pero ya con la codificación\n",
    "kilo_cod=palabra_repetida(correo_codificado)"
   ]
  },
  {
   "cell_type": "markdown",
   "metadata": {},
   "source": [
    "- Ahora ***vamos a definir dos funciones auxiliares*** para calcular el modulo inverso. Codigo basado en ejemplos de <span style=\"color:green\">Stackoverflow</span>"
   ]
  },
  {
   "cell_type": "code",
   "execution_count": 9,
   "metadata": {
    "collapsed": true
   },
   "outputs": [],
   "source": [
    "#Funciones para calcular el modulo inverso\n",
    "def egcd(a, b):\n",
    "    if a == 0:\n",
    "        return (b, 0, 1)\n",
    "    else:\n",
    "        g, y, x = egcd(b % a, a)\n",
    "        return (g, x - (b // a) * y, y)\n",
    "\n",
    "def moduloinverso(a, m):\n",
    "    g, x, y = egcd(a, m)\n",
    "    if g != 1:\n",
    "        raise Exception('Exception:El modulo inverso no existe para esos valores')\n",
    "    else:\n",
    "        return x % m"
   ]
  },
  {
   "cell_type": "markdown",
   "metadata": {},
   "source": [
    "- Por ultimo vamos a ***definir*** una función que nos resuelva el sistema de dos ecuaciones con dos incognitas (a,b). La función nos devolverá el valor de <span style=\"color:red\">a</span> y <span style=\"color:red\">b</span>. Una vez que conozcamos estos dos parámetros, y como n ya lo conociamos podemos aplicar la función del ejercicio2 de manera que decodifiquemos el mensaje."
   ]
  },
  {
   "cell_type": "code",
   "execution_count": 10,
   "metadata": {
    "collapsed": false
   },
   "outputs": [],
   "source": [
    "#Función para resolver en el sistema los valor de a y b\n",
    "#Tenemos un sistema de dos ecuaciones con dos incogntias de la forma {21= (4a+b) mod 26 ;  4 =(19a+b) mod 26}\n",
    "#Restamos a la primera ecuación la segunga, obtenemos una ecuación con solo a\n",
    "#Una vez conocido el valor de a, en una ecuacion sustituyo y saco la b\n",
    "def resolver(primer_elemento_cod, segundo_elemento_cod,decimal1,decimal2,modulo):\n",
    "    lista=[]\n",
    "    a=((((primer_elemento_cod-segundo_elemento_cod)%modulo)*moduloinverso((decimal1 - decimal2),modulo))%modulo)#Saco valor de a\n",
    "    lista.append(a)#Guardo a en la lista\n",
    "    lista.append((primer_elemento_cod - a*decimal1)%modulo)#Saco b y lo almaceno en la lista\n",
    "    return lista"
   ]
  },
  {
   "cell_type": "code",
   "execution_count": 11,
   "metadata": {
    "collapsed": false
   },
   "outputs": [],
   "source": [
    "lista_AB= resolver(dir_correo_cod,kilo_cod,correo_decimal,kilos_decimal,n)"
   ]
  },
  {
   "cell_type": "code",
   "execution_count": 12,
   "metadata": {
    "collapsed": false
   },
   "outputs": [
    {
     "name": "stdout",
     "output_type": "stream",
     "text": [
      "Mándame el siguiente material que estoy listo: 5 kilos compota de melocotón, 3 kilos fresas, 7 kilos manzanas, 9 kilos albaricoques, 100 kilos azucar. Y Date prisa que me tienes hasta las narices con tanta segurida, que parece que cocinamos otra cosa en lugar he hacer yogures!!!\n"
     ]
    }
   ],
   "source": [
    "print deco_afin(correo_codificado,lista_AB[0],lista_AB[1],n)"
   ]
  },
  {
   "cell_type": "markdown",
   "metadata": {},
   "source": [
    "### <span style=\"color:pink\">Conclusión</span>\n",
    "+ **Son pedidos de ingredientes para una fabrica de yogurt**\n"
   ]
  }
 ],
 "metadata": {
  "kernelspec": {
   "display_name": "Python 2",
   "language": "python",
   "name": "python2"
  },
  "language_info": {
   "codemirror_mode": {
    "name": "ipython",
    "version": 2
   },
   "file_extension": ".py",
   "mimetype": "text/x-python",
   "name": "python",
   "nbconvert_exporter": "python",
   "pygments_lexer": "ipython2",
   "version": "2.7.11"
  }
 },
 "nbformat": 4,
 "nbformat_minor": 0
}
