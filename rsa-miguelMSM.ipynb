{
 "cells": [
  {
   "cell_type": "markdown",
   "metadata": {},
   "source": [
    "# Codificación con llave pública RSA"
   ]
  },
  {
   "cell_type": "markdown",
   "metadata": {},
   "source": [
    "Los servicios de inteligencia han interceptado el siguiente WhatsApp, que ha sido enviado por el cabecilla de un grupo al que están investigando.\n",
    "\n",
    "<span style=\"color:blue\">\n",
    "Hola a todos,\n",
    "entrar en:\n",
    "$$963165702406078610933268087093959165865367524389470937341450164058799873046090241902268240522430399039842519010966073984353131388865535909155540264424417892621L$$\n",
    "</span>"
   ]
  },
  {
   "cell_type": "markdown",
   "metadata": {},
   "source": [
    "Sabemos, gracias a un infiltrado, al que llamaremos Pepe, para proteger su identidad, que ese número corresponde a la codificación (usando el protocolo RSA) de la dirección de una web. \n",
    "\n",
    "De las llaves públicas e y n que se han usado para codificar la dirección de la web. Pepe nos ha dicho que el módulo $n$ es \n",
    "$$\n",
    "10000000000000000000000000000000000000000000000000000000000000000000033000000000000000002890000000000000000000000000000000000000000000000000000000000000000009537L\n",
    "$$"
   ]
  },
  {
   "cell_type": "markdown",
   "metadata": {},
   "source": [
    "Del que además sabemos que es el producto de dos primos uno de ellos muy cercano a $10^{90}$. \n",
    "\n",
    "Acerca del exponente $e$, que se ha usado, solo sabemos que está entre $12334$ y $12345$. \n",
    "\n",
    "En esa web se habla de un famoso detective cuyo apellido ha sido usado como llave para codificar, siguiendo el procedimiento de Vigenère, una clave. La matriz de Vigenère que se ha usado se obtiene mediante una traslación de 6 lugares de las 26 letras del alfabeto (sin Ñ), de manera que en el lugar 1,1 aparece la letra G.\n",
    "\n",
    "Afortunadamente tenemos pinchado el WhatsApp del cabecilla e interceptamos este otro mensaje:\n",
    "\n",
    "<span style=\"color:blue\">\n",
    "Lo vamos a petar compañer@s\n",
    "os dejo las instru donde siempre\n",
    "la clave para entrar es: SQNHYQQ\n",
    "</span>"
   ]
  },
  {
   "cell_type": "markdown",
   "metadata": {},
   "source": [
    "Pepe dice que esta banda ha pirateado la web de la asignatura TAN y Criptografía de cuarto curso de matemáticas de la UGR y que es en esta web donde dejan las instrucciones para cometer sus fechorías. Solo hay que introducir la clave correcta cuando se pulsa el botón etiquetado como \"este botón\" que aparece en esa web.\n",
    "\n",
    "Puede ser una cuestión de seguridad nacional saber que está tramando este peligroso grupo. ¿Podrías ayudar a nuestro servicio de inteligencia averiguando que traman?"
   ]
  },
  {
   "cell_type": "code",
   "execution_count": 1,
   "metadata": {
    "collapsed": true
   },
   "outputs": [],
   "source": [
    "from TANMSM import *\n",
    "from fractions import gcd\n",
    "from sympy import *"
   ]
  },
  {
   "cell_type": "markdown",
   "metadata": {},
   "source": [
    "### <span style=\"color:purple\">Solución</span>\n",
    "+ Vamos a usar todas las pistas que tenemos de forma directa o indirecta.\n",
    "\n",
    "Comenzamos viendo que conocemos n, el cual es el producto de dos primos. $\\mbox{n} ={p}_1 * {p}_2$ Ademas uno de los primos muy cercano a $10^{90}$. (El siguiente primo a este número será nuestro candidato). Por tanto,una vez conocido uno de ellos el otro lo podemos saber de forma indirecta "
   ]
  },
  {
   "cell_type": "code",
   "execution_count": 2,
   "metadata": {
    "collapsed": true
   },
   "outputs": [],
   "source": [
    "n=10000000000000000000000000000000000000000000000000000000000000000000033000000000000000002890000000000000000000000000000000000000000000000000000000000000000009537L"
   ]
  },
  {
   "cell_type": "markdown",
   "metadata": {},
   "source": [
    "\n",
    "* Tambien conocemos la web"
   ]
  },
  {
   "cell_type": "code",
   "execution_count": 3,
   "metadata": {
    "collapsed": true
   },
   "outputs": [],
   "source": [
    "mensaje_codificar=[963165702406078610933268087093959165865367524389470937341450164058799873046090241902268240522430399039842519010966073984353131388865535909155540264424417892621L]"
   ]
  },
  {
   "cell_type": "markdown",
   "metadata": {},
   "source": [
    "* Definimos una función para sacar los dos primos a partir de la pista, y del primo obtenido y la n"
   ]
  },
  {
   "cell_type": "code",
   "execution_count": 4,
   "metadata": {
    "collapsed": false
   },
   "outputs": [],
   "source": [
    "#Funcion que calculará los dos primos cuyo producto es n\n",
    "def calcula_primos(n):\n",
    "    p1=nextprime(pow(10,90))#El primer primo es el siguiente a 10^90\n",
    "    p2= n/p1 #sabemos que n= p1 * p2\n",
    "    return (p1 , p2)"
   ]
  },
  {
   "cell_type": "code",
   "execution_count": 5,
   "metadata": {
    "collapsed": false
   },
   "outputs": [],
   "source": [
    "p1, p2 = calcula_primos(n)"
   ]
  },
  {
   "cell_type": "markdown",
   "metadata": {},
   "source": [
    "* Comprobamos que ambos primos candidatos son de verdad primos. Usamos funcion $isprime$"
   ]
  },
  {
   "cell_type": "code",
   "execution_count": 6,
   "metadata": {
    "collapsed": false
   },
   "outputs": [
    {
     "data": {
      "text/plain": [
       "True"
      ]
     },
     "execution_count": 6,
     "metadata": {},
     "output_type": "execute_result"
    }
   ],
   "source": [
    "isprime(p1)"
   ]
  },
  {
   "cell_type": "code",
   "execution_count": 7,
   "metadata": {
    "collapsed": false
   },
   "outputs": [
    {
     "data": {
      "text/plain": [
       "True"
      ]
     },
     "execution_count": 7,
     "metadata": {},
     "output_type": "execute_result"
    }
   ],
   "source": [
    "isprime(p2)"
   ]
  },
  {
   "cell_type": "markdown",
   "metadata": {},
   "source": [
    "* Comprobamos que hemos calculado bien los primos y que su producto es $n$"
   ]
  },
  {
   "cell_type": "code",
   "execution_count": 8,
   "metadata": {
    "collapsed": false
   },
   "outputs": [
    {
     "data": {
      "text/plain": [
       "True"
      ]
     },
     "execution_count": 8,
     "metadata": {},
     "output_type": "execute_result"
    }
   ],
   "source": [
    "(p1*p2)==n"
   ]
  },
  {
   "cell_type": "markdown",
   "metadata": {},
   "source": [
    "\n",
    "* Definimos una función de Euler para dos primos"
   ]
  },
  {
   "cell_type": "code",
   "execution_count": 9,
   "metadata": {
    "collapsed": true
   },
   "outputs": [],
   "source": [
    "#Funcion de Euler\n",
    "def funcion_Euler(primo1,primo2): #Recibe dos primos como parámetros y delvuelve el producto de p-1\n",
    "    return (primo1-1)*(primo2-1)\n",
    "    "
   ]
  },
  {
   "cell_type": "code",
   "execution_count": 10,
   "metadata": {
    "collapsed": false
   },
   "outputs": [],
   "source": [
    "phi = funcion_Euler(p1,p2)"
   ]
  },
  {
   "cell_type": "markdown",
   "metadata": {},
   "source": [
    "* La siguiente pista que conocemos es que nuestro $e$ se encuentra entre 12334 y 12345 . Por tanto vamos a ver los posibles valores de $e$ en ese rango que cumple MCD"
   ]
  },
  {
   "cell_type": "code",
   "execution_count": 11,
   "metadata": {
    "collapsed": false
   },
   "outputs": [],
   "source": [
    "#Generación de clave publica e\n",
    "def calcular_e(euler):\n",
    "    for i in range(12334, 12345):#Recorro los valores en el rango de valores delimitado anteriormente\n",
    "        if gcd(euler,i) == 1:#Compruebo el MCD\n",
    "            print i\n",
    "        "
   ]
  },
  {
   "cell_type": "code",
   "execution_count": 12,
   "metadata": {
    "collapsed": false
   },
   "outputs": [
    {
     "name": "stdout",
     "output_type": "stream",
     "text": [
      "12335\n",
      "12337\n",
      "12341\n",
      "12343\n"
     ]
    }
   ],
   "source": [
    "calcular_e(phi)"
   ]
  },
  {
   "cell_type": "markdown",
   "metadata": {},
   "source": [
    "Estos son los posbiles valores para $e$  Ahora sacamos $d$ para cada una de nuestras $e$ candidatas"
   ]
  },
  {
   "cell_type": "code",
   "execution_count": 13,
   "metadata": {
    "collapsed": false
   },
   "outputs": [],
   "source": [
    "#Calculamos la privada en función de la publica\n",
    "posibles_e=[12335,12337,12341,12343]\n",
    "def clave_d_privada():\n",
    "    lista_d=[]\n",
    "    for i in posibles_e:#Saco la d para cada e \n",
    "        lista_d.append(gcdex(i,phi)[0]%phi)\n",
    "    return lista_d"
   ]
  },
  {
   "cell_type": "code",
   "execution_count": 14,
   "metadata": {
    "collapsed": true
   },
   "outputs": [],
   "source": [
    "d = clave_d_privada()"
   ]
  },
  {
   "cell_type": "markdown",
   "metadata": {},
   "source": [
    "* Llegado hasta aquí, ahora vamos a sacar los posibles mensajes ayudados por un función auxiliar. Por ultimo de todos esos posibles mensajes ver cual es el que nos interesa y convertirlo a string."
   ]
  },
  {
   "cell_type": "code",
   "execution_count": 15,
   "metadata": {
    "collapsed": false
   },
   "outputs": [],
   "source": [
    "#Funcion para sacar los posibles mensajes para nuestra lista de d \n",
    "def posibles_mensajes():\n",
    "    mensaje=[]\n",
    "    for i in d:#Recorro todas las d candidatas\n",
    "        for j in mensaje_codificar:#Para cada d recorro la web \n",
    "            mensaje.append(pow(j,long(i),n))#Veo todos los posibles mensajes y los voy almacenando\n",
    "    return mensaje\n",
    "\n",
    "listaMensajes=posibles_mensajes()"
   ]
  },
  {
   "cell_type": "code",
   "execution_count": 16,
   "metadata": {
    "collapsed": false
   },
   "outputs": [
    {
     "name": "stdout",
     "output_type": "stream",
     "text": [
      "https://es.wikipedia.org/wiki/Andrea_Camilleri\n"
     ]
    }
   ],
   "source": [
    "#Funcion que nos convertira el mensaje a hexadecimal pero solo aquellos que tienen longitud par\n",
    "def dec_to_hex_list(mens):\n",
    "    listahexadecimal=[]\n",
    "    for i in mens:#Recorro el mensaje\n",
    "        hexadecimal = dectohex_rec(i)#Convierto cada i en hexadecimal\n",
    "        if len(hexadecimal)%2==0:#Compruebo si el tamaño del hexadecimal es par\n",
    "            listahexadecimal.append(hexadecimal)#Si es par lo añado a la lista de hexadecimales\n",
    "    return listahexadecimal\n",
    "\n",
    "\n",
    "print hexalist_to_str(dec_to_hex_list(listaMensajes))#paso a string una lista de hexadecimales"
   ]
  },
  {
   "cell_type": "markdown",
   "metadata": {},
   "source": [
    "* En esta pagina podemos ver que el apellido del detective es <span style=\"color:red\">Montalbano</span>\n",
    "### <span style=\"color:orange\">Procedimiento de Vigenere</span>\n",
    "###### En la que hemos usado un desplazamiento de 6 lugares en el abecedario"
   ]
  },
  {
   "cell_type": "code",
   "execution_count": 17,
   "metadata": {
    "collapsed": false
   },
   "outputs": [],
   "source": [
    "palabra_codificar = \"SQNHYQQ\""
   ]
  },
  {
   "cell_type": "code",
   "execution_count": 18,
   "metadata": {
    "collapsed": true
   },
   "outputs": [],
   "source": [
    "abecedario=\"ABCDEFGHIJKLMNOPQRSTUVWXYZ\" #Almacenamos el abecedario\n",
    "#Funcion que nos crea la tabla de Vigenere y nos genera la codificacion\n",
    "def tablavigenere(pos_inicial,clave, m):\n",
    "    tablavigenere=[]\n",
    "    row=[]#FilaAuxiliar\n",
    "    solucion=\"\"#Iniciamos a palabra vacia\n",
    "    m=m.upper()#Trabajamos con mayusculas\n",
    "    clave= clave.upper()#Trabajamos con mayusculas\n",
    "    for i in range(len(abecedario)): #Recorremos tantas letras como tenga el abecedarios que serán las columnas\n",
    "        for k in range(pos_inicial+i,len(abecedario)+pos_inicial+i): #Recorro las filas\n",
    "            row.append(abecedario[k%len(abecedario)])#Voy completando cada fila\n",
    "        tablavigenere.append(row)#Meto la fila entera\n",
    "        row = []#La inicializamos a vacio de nuevo la fila\n",
    "    for j in range(len(m)):#Ahora recorremos el tamaño del mensaje\n",
    "        for k in tablavigenere:#Recorremos toda la tabla y vemos la comprobación de la palabra y lo metemos en solucion\n",
    "            if k[0] == clave[j%len(m)]:\n",
    "                aux=k.index(m[j])\n",
    "        solucion=solucion+tablavigenere[0][aux]#Vamos añadiendo\n",
    "    return solucion\n",
    "            "
   ]
  },
  {
   "cell_type": "markdown",
   "metadata": {},
   "source": [
    "Ahora obtenemos la tabla de Vergere con el desplazamiento de 6 lugares como nos indica el enunciado"
   ]
  },
  {
   "cell_type": "code",
   "execution_count": 19,
   "metadata": {
    "collapsed": false
   },
   "outputs": [
    {
     "name": "stdout",
     "output_type": "stream",
     "text": [
      "MIGUELV\n"
     ]
    }
   ],
   "source": [
    "tablaResultado=tablavigenere(6,\"Montalbano\",palabra_codificar)\n",
    "print tablaResultado"
   ]
  },
  {
   "cell_type": "markdown",
   "metadata": {},
   "source": [
    "+ Entramos a la Web y ponemos de clave <span style=\"color:pink\">MIGUELV</span> y  nos aparece\n",
    "\n",
    "Amig@s, \n",
    "Averiguar quien es el autor del siguiente pasaje y comunicarlo al profe, él os dará las siguientes instrucciones. \n",
    "\n",
    "He codificado el texto usando RSA con exponente e=1211 y módulo n=100000000190000000000000130000000247L \n",
    "\n",
    "[62718023028666516652217553286447580L,7498947686663464945219055124624672L,5097532352808044988339897796965481L, 91589262635941722393701864307290432L,32253663039631038701991850668453454L,53773066331614972385019608760594210L, 44872556814103066346332116543585947L,927595488059769026187019360488764L,49395339185930770640825500218907604L, 82765863643386211968916760020252865L,25190253146559911376083367250316299L,81516543968865406348490251727544031L, 46973933837819443668504149601583430L,77960341753470006710619206199970261L,49395339185930770640825500218907604L, 79254408903157759140039430389457364L,32253663039631038701991850668453454L,69780185215451483837569951955699571L, 29181696113870199493001011506819598L,90746575521726863772619585452064895L,53321108584650112172697208811566958L, 89581607855380843846698601631339583L,4708233782086952953447867649890291L,81432953437104554702397572297116064L, 36748330705811761693354226961591564L,1738593413407962465957970386712872L,32253663039631038701991850668453454L, 6750255873197567500580868078789613L,3974641490716322416716012898882504L,69986814838734158265662071880367929L, 33080062031670887360059604610536909L,40912383938472947746699773999940668L,4708233782086952953447867649890291L, 60483336929846569313797889446933915L,50667049569681047447267330219362885L,16290171361242663103615946233640411L, 47438932232141836314849694319021353L,39517692056423301078064249847281553L,5059085049209552086870359812535240L, 62718023028666516652217553286447580L,34826601305744909271655808230506457L,32253663039631038701991850668453454L, 91586940261787857401151443814477655L,61306029703084185462695712502140576L,83961571813158583840345582468490739L, 53321108584650112172697208811566958L,16290171361242663103615946233640411L,33080062031670887360059604610536909L, 33769266318800097853303530008277240L,32253663039631038701991850668453454L,59548761183455377590539187724065107L, 40242014248379983165075976953067146L,39517692056423301078064249847281553L,29181696113870199493001011506819598L, 32435388911346208285687326957122563L,53321108584650112172697208811566958L,49395339185930770640825500218907604L, 20984102453995705653556910024287620L,23099420478417425445521464902274289L,32601348700812862397811686988230384L, 38217714717707056935821519501830833L,58757499046435065954253182867578106L,927595488059769026187019360488764L, 97463369160658535386970147458030133L,596227106103230803334107174826800L,81516543968865406348490251727544031L, 33080062031670887360059604610536909L,94139569715939059099802866251926914L,52678403584758883400564489432746954L, 32253663039631038701991850668453454L,44476434974326501460048387026732L,55680754582162596062709617863536289L, 62718023028666516652217553286447580L,3789955926090140936068306445042312L,32253663039631038701991850668453454L,66686506397057715816262021262989728L]"
   ]
  },
  {
   "cell_type": "code",
   "execution_count": 20,
   "metadata": {
    "collapsed": false
   },
   "outputs": [],
   "source": [
    "#Actualizamos los datos a los nuevos que aparecen en la web y podemos sacar la d \n",
    "e=1211\n",
    "n=100000000190000000000000130000000247L\n",
    "d=[gcdex(e,totient(n))[0]%totient(n)]#Sacamos la d con nuestra e y n"
   ]
  },
  {
   "cell_type": "markdown",
   "metadata": {},
   "source": [
    "Almacenamos el nuevo mensaje a codificar y volvemos a llamar a la funcion que nos de los posibles mensajes para por ultimo convertirlo a string y mostrarlo por pantalla\n"
   ]
  },
  {
   "cell_type": "code",
   "execution_count": 21,
   "metadata": {
    "collapsed": true
   },
   "outputs": [],
   "source": [
    "mensaje_codificar = [62718023028666516652217553286447580L,7498947686663464945219055124624672L,5097532352808044988339897796965481L, 91589262635941722393701864307290432L,32253663039631038701991850668453454L,53773066331614972385019608760594210L, 44872556814103066346332116543585947L,927595488059769026187019360488764L,49395339185930770640825500218907604L, 82765863643386211968916760020252865L,25190253146559911376083367250316299L,81516543968865406348490251727544031L, 46973933837819443668504149601583430L,77960341753470006710619206199970261L,49395339185930770640825500218907604L, 79254408903157759140039430389457364L,32253663039631038701991850668453454L,69780185215451483837569951955699571L, 29181696113870199493001011506819598L,90746575521726863772619585452064895L,53321108584650112172697208811566958L, 89581607855380843846698601631339583L,4708233782086952953447867649890291L,81432953437104554702397572297116064L, 36748330705811761693354226961591564L,1738593413407962465957970386712872L,32253663039631038701991850668453454L, 6750255873197567500580868078789613L,3974641490716322416716012898882504L,69986814838734158265662071880367929L, 33080062031670887360059604610536909L,40912383938472947746699773999940668L,4708233782086952953447867649890291L, 60483336929846569313797889446933915L,50667049569681047447267330219362885L,16290171361242663103615946233640411L, 47438932232141836314849694319021353L,39517692056423301078064249847281553L,5059085049209552086870359812535240L, 62718023028666516652217553286447580L,34826601305744909271655808230506457L,32253663039631038701991850668453454L, 91586940261787857401151443814477655L,61306029703084185462695712502140576L,83961571813158583840345582468490739L, 53321108584650112172697208811566958L,16290171361242663103615946233640411L,33080062031670887360059604610536909L, 33769266318800097853303530008277240L,32253663039631038701991850668453454L,59548761183455377590539187724065107L, 40242014248379983165075976953067146L,39517692056423301078064249847281553L,29181696113870199493001011506819598L, 32435388911346208285687326957122563L,53321108584650112172697208811566958L,49395339185930770640825500218907604L, 20984102453995705653556910024287620L,23099420478417425445521464902274289L,32601348700812862397811686988230384L, 38217714717707056935821519501830833L,58757499046435065954253182867578106L,927595488059769026187019360488764L, 97463369160658535386970147458030133L,596227106103230803334107174826800L,81516543968865406348490251727544031L, 33080062031670887360059604610536909L,94139569715939059099802866251926914L,52678403584758883400564489432746954L, 32253663039631038701991850668453454L,44476434974326501460048387026732L,55680754582162596062709617863536289L, 62718023028666516652217553286447580L,3789955926090140936068306445042312L,32253663039631038701991850668453454L,66686506397057715816262021262989728L]"
   ]
  },
  {
   "cell_type": "code",
   "execution_count": 22,
   "metadata": {
    "collapsed": false
   },
   "outputs": [
    {
     "name": "stdout",
     "output_type": "stream",
     "text": [
      "To be, or not to be: that is the question: Whether ‘tis nobler in the mind to suffer The slings and arrows of outrageous fortune, Or to take arms against a sea of troubles, And by opposing end them? To die: to sleep; No more; and by a sleep to say we end The heart-ache and the thousand natural shocks That flesh is heir to, ‘tis a consummation Devoutly to be wish’d. To die, to sleep.\n"
     ]
    }
   ],
   "source": [
    "listaMensajes=posibles_mensajes()\n",
    "print hexalist_to_str(dec_to_hex_list(listaMensajes))#paso a string una lista de hexadecimales"
   ]
  },
  {
   "cell_type": "markdown",
   "metadata": {
    "collapsed": true
   },
   "source": [
    "### <span style=\"color:pink\">Conclusión</span>\n",
    "+ **El autor del pasaje corresponde a : ** <span style=\"color:purple\">William Shakespeare Hamlet</span>"
   ]
  },
  {
   "cell_type": "code",
   "execution_count": null,
   "metadata": {
    "collapsed": true
   },
   "outputs": [],
   "source": []
  }
 ],
 "metadata": {
  "kernelspec": {
   "display_name": "Python 2",
   "language": "python",
   "name": "python2"
  },
  "language_info": {
   "codemirror_mode": {
    "name": "ipython",
    "version": 2
   },
   "file_extension": ".py",
   "mimetype": "text/x-python",
   "name": "python",
   "nbconvert_exporter": "python",
   "pygments_lexer": "ipython2",
   "version": "2.7.11"
  }
 },
 "nbformat": 4,
 "nbformat_minor": 0
}
