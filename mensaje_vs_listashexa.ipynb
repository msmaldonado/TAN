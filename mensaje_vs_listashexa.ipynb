{
 "cells": [
  {
   "cell_type": "markdown",
   "metadata": {},
   "source": [
    "# Mensajes vs listas de números en hexadecimal"
   ]
  },
  {
   "cell_type": "markdown",
   "metadata": {},
   "source": [
    "El objetivo de esta práctica es definir una función que asocie a un mensaje una lista de cadenas en hexadecimal y otra función en sentido opuesto. "
   ]
  },
  {
   "cell_type": "markdown",
   "metadata": {},
   "source": [
    "Las funciones <span style=\"color:green\">encode</span> y <span style=\"color:green\">decode</span>"
   ]
  },
  {
   "cell_type": "code",
   "execution_count": 1,
   "metadata": {
    "collapsed": false
   },
   "outputs": [],
   "source": [
    "mensaje = 'Hola, ¿cómo estás?'"
   ]
  },
  {
   "cell_type": "code",
   "execution_count": 2,
   "metadata": {
    "collapsed": false
   },
   "outputs": [
    {
     "name": "stdout",
     "output_type": "stream",
     "text": [
      "Hola, ¿cómo estás?\n"
     ]
    }
   ],
   "source": [
    "print mensaje"
   ]
  },
  {
   "cell_type": "code",
   "execution_count": 3,
   "metadata": {
    "collapsed": false
   },
   "outputs": [
    {
     "data": {
      "text/plain": [
       "str"
      ]
     },
     "execution_count": 3,
     "metadata": {},
     "output_type": "execute_result"
    }
   ],
   "source": [
    "type(mensaje)"
   ]
  },
  {
   "cell_type": "markdown",
   "metadata": {},
   "source": [
    "Un problema con los signos de puntuación ...\n",
    "\n",
    "Si preguntamos por el símbolo en el lugar 0 de mensaje obtenemos"
   ]
  },
  {
   "cell_type": "code",
   "execution_count": 4,
   "metadata": {
    "collapsed": false
   },
   "outputs": [
    {
     "data": {
      "text/plain": [
       "'H'"
      ]
     },
     "execution_count": 4,
     "metadata": {},
     "output_type": "execute_result"
    }
   ],
   "source": [
    "mensaje[0]"
   ]
  },
  {
   "cell_type": "markdown",
   "metadata": {},
   "source": [
    "Sin embargo si preguntamos por el símbolo en el lugar 6"
   ]
  },
  {
   "cell_type": "code",
   "execution_count": 5,
   "metadata": {
    "collapsed": false
   },
   "outputs": [
    {
     "data": {
      "text/plain": [
       "'\\xc2'"
      ]
     },
     "execution_count": 5,
     "metadata": {},
     "output_type": "execute_result"
    }
   ],
   "source": [
    "mensaje[6]"
   ]
  },
  {
   "cell_type": "code",
   "execution_count": 6,
   "metadata": {
    "collapsed": false
   },
   "outputs": [
    {
     "name": "stdout",
     "output_type": "stream",
     "text": [
      "�\n"
     ]
    }
   ],
   "source": [
    "print mensaje[6]"
   ]
  },
  {
   "cell_type": "markdown",
   "metadata": {},
   "source": [
    "Podemos asociar una cadena hexadecimal al mensaje con la función <span style=\"color:green\">encode</span> y la variable <span style=\"color:green\">'hex'</span>"
   ]
  },
  {
   "cell_type": "code",
   "execution_count": 7,
   "metadata": {
    "collapsed": false
   },
   "outputs": [
    {
     "name": "stdout",
     "output_type": "stream",
     "text": [
      "486f6c612c20c2bf63c3b36d6f20657374c3a1733f\n"
     ]
    }
   ],
   "source": [
    "mensaje_cod=mensaje.encode('hex')\n",
    "print mensaje_cod"
   ]
  },
  {
   "cell_type": "markdown",
   "metadata": {},
   "source": [
    "Y podemos recuperar el mensaje original con la función <span style=\"color:green\">decode</span>"
   ]
  },
  {
   "cell_type": "code",
   "execution_count": 8,
   "metadata": {
    "collapsed": false
   },
   "outputs": [
    {
     "name": "stdout",
     "output_type": "stream",
     "text": [
      "Hola, ¿cómo estás?\n"
     ]
    }
   ],
   "source": [
    "print mensaje_cod.decode('hex')"
   ]
  },
  {
   "cell_type": "markdown",
   "metadata": {},
   "source": [
    "Si el mensaje que tenemos es muy largo, el número hexadecimal que obtenemos con la función <span style=\"color:green\">encode</span> es demasiado grande. \n",
    "\n",
    "Para hacer viable el proceso de codificación vamos a dividir cada mensaje en trozos, uno para cada palabra. Aplicaremos la función <span style=\"color:green\">encode</span> a cada palabra en lugar de al mensaje completo."
   ]
  },
  {
   "cell_type": "markdown",
   "metadata": {},
   "source": [
    "- **Ejercicio 1:** Define una función <span style=\"color:reed\">lista_palabras(mensaje)</span> que asocie a un mensaje (cadena) una lista (de cadenas) con cada una de las palabras del mensaje. Si la palabra está precedida o seguida por un símbolo de puntuación, admiración, interrogación, etc. integraremos dicho símbolo a la palabra.\n",
    "\n",
    "Por ejemplo queremos que nuestra función <span style=\"color:reed\">lista_palabras</span> aplicada a nuestro mensaje <span style=\"color:blue\">'Hola, ¿cómo estás?'</span> produzca la lista <span style=\"color:blue\">['Hola,', '¿cómo', 'estás?']</span>."
   ]
  },
  {
   "cell_type": "markdown",
   "metadata": {},
   "source": [
    "- **Ejercicio 2:** Define una función <span style=\"color:red\">str_to_hexalist(mensaje)</span> que a un mensaje le asocie la lista de números en hexadecimal correspondiente a cada palabra del mensaje."
   ]
  },
  {
   "cell_type": "markdown",
   "metadata": {},
   "source": [
    "- **Ejercicio 3:** Define una función <span style=\"color:red\">hexalist_to_str(lista)</span> que sea la inversa de la función <span style=\"color:red\">str_to_hexalist(mensaje)</span> definida en el ejercicio 2."
   ]
  }
 ],
 "metadata": {
  "kernelspec": {
   "display_name": "Python 2",
   "language": "python",
   "name": "python2"
  },
  "language_info": {
   "codemirror_mode": {
    "name": "ipython",
    "version": 2
   },
   "file_extension": ".py",
   "mimetype": "text/x-python",
   "name": "python",
   "nbconvert_exporter": "python",
   "pygments_lexer": "ipython2",
   "version": "2.7.11"
  }
 },
 "nbformat": 4,
 "nbformat_minor": 0
}
