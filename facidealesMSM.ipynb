{
 "cells": [
  {
   "cell_type": "markdown",
   "metadata": {},
   "source": [
    "# Factorización de Ideales"
   ]
  },
  {
   "cell_type": "markdown",
   "metadata": {},
   "source": [
    "Como hasta ahora denotaremos $\\mathbb{O}$ al anillo de enteros de $\\mathbb Q (\\sqrt d )$, este será $\\mathbb O =\\mathbb Z [e]$, con: \n",
    "\n",
    "$$ \n",
    "e = \\sqrt d \\qquad\\mbox{si}\\quad d\\not\\equiv 1\\mod 4 \\quad  \\mbox{y} \\\\  \\quad e = \\frac{1+\\sqrt d}{2} \\quad \\quad\\mbox{si}\\quad d\\equiv 1\\mod 4.\n",
    "$$\n",
    "\n",
    "Voy a denotar $f$ al polinomio irreducible de $e$. Si $p$ es un primo, $f_p$ denoratá el polinomio $f$ módulo $p$.\n",
    "\n",
    "## Debemos saber:\n",
    "\n",
    "- Un ideal $I\\leq \\mathbb O$ siempre puede ser generado por dos enteros algebráicos $I=<\\alpha,\\beta>$.\n",
    "- Un sistema de generadores del grupo abeliano $(I,+)$ está dado por $\\{\\alpha,\\alpha*e,\\beta,\\beta*e\\}$.\n",
    "- La norma de $I$ es el orden del grupo abeliano cociente $\\mathbb O/I$. Es un entero positivo y pertenece a $I$.\n",
    "- Un ideal $I$ divide a otro $J$ si, y solo si, $J\\subseteq I$. Denotamos $I|J$ cuando $I$ divide a $J$. En este caso $J*I^{-1}$ es un ideal de $\\mathbb O$.\n",
    "- Si factorizamos la norma de $I$, $norma(I)=p_1,p_2,\\ldots,p_r$, y tomamos un ideal primo $\\mathfrak P$ que divida a $I$, entonces $norma(I)\\in I\\subseteq \\mathfrak P$ y por tanto existe un $i$ tal que $p_i\\in \\mathfrak P$, o equivalentemente $\\mathfrak P|p_i$ por tanto los ideales primos que dividen a $I$ están entre los ideales primos que dividen a los primos que dividen a $norma(I)$.\n",
    "- Si $p\\in \\mathbb Z$ es un primo, entonces:\n",
    "    - El ideal generado por $p$, $<p>$, es primo en $\\mathbb O$ si, y solo si, el polinomio $f_p$ es irreducible. En este caso $<p>^{-1}=\\frac{1}{p}\\mathbb O$, basta observar que $<p>*\\frac{1}{p}\\mathbb O =\\mathbb O $.\n",
    "    - Si $f_p$ es reducible, $f_p=(x-a)*(x-b)$, entonces $$<p>=\\mathfrak P_1 *\\mathfrak P_2,$$ con $\\mathfrak P_1=<p,e-a>$ y $\\mathfrak P_2 =<p,e-b>$ los únicos ideales primos que dividen a $p$. \n",
    "    - Además, en este caso, \n",
    "    $$ \\mathfrak P_1^{-1}= \\frac{1}{p}<p,e-b> \\quad\\mbox{y}\\quad \\mathfrak P_2^{-1}= \\frac{1}{p}<p,e-a>$$\n",
    "- Un ideal $\\mathfrak P$ es primo si:\n",
    "    - Su norma es un primo $p$ de $\\mathbb Z$ o bien\n",
    "    - Su norma es un primo $p$ al cuadrado, norma$(\\mathfrak P )=p^2$, $p\\in\\mathfrak P$ y $f_p$ es irreducible. En este caso $\\mathfrak P$ es el ideal principal generado por $p$."
   ]
  },
  {
   "cell_type": "code",
   "execution_count": 1,
   "metadata": {
    "collapsed": false
   },
   "outputs": [],
   "source": [
    "#Importarmos nuestro fichero py con lo de la variable propia \n",
    "from sympy import *\n",
    "import TANMSM as tanmsm"
   ]
  },
  {
   "cell_type": "markdown",
   "metadata": {},
   "source": [
    "## Funciones auxiliares."
   ]
  },
  {
   "cell_type": "markdown",
   "metadata": {},
   "source": [
    "- <span style=\"color:red\">LR</span> para calcular la matriz reducida asociada a una matriz.\n",
    "- <span style=\"color:red\">norma</span> para calcular la norma de un ideal.\n",
    "- <span style=\"color:red\">esO</span> para ver si un ideal es el total.\n",
    "- <span style=\"color:red\">pertenece</span> para ver si un elemento pertenece o no a un ideal.\n",
    "- <span style=\"color:red\">divide</span> para ver si un ideal divide a otro.\n",
    "- <span style=\"color:red\">productodos</span> para calcular dos generadores del producto de dos ideales.\n",
    "- <span style=\"color:red\">producto</span> para calcular dos generadores del producto de una lista de ideales.\n",
    "- <span style=\"color:red\">divisores($p$,d)</span>, con $p$ un primo de $\\mathbb Z$ positivo, para calcular los divisores de $p$.\n",
    "- <span style=\"color:red\">es_primo</span> para ver si un ideal es primo.\n",
    "- <span style=\"color:red\">cociente</span> para calcular el cociente $I*\\mathfrak P^{-1}$ en el caso en que el idea primo $\\mathfrak P$ divida a $I$."
   ]
  },
  {
   "cell_type": "code",
   "execution_count": 2,
   "metadata": {
    "collapsed": true
   },
   "outputs": [],
   "source": [
    "#Funcion para calcular la matriz reducida asociada a una matriz\n",
    "def LR(m):\n",
    "    while True:\n",
    "        m=sorted(m, key=lambda v: abs(v[0]) if v[0]!=0 else 43567890709798676689698090790)#trabajamos con la matriz\n",
    "        if(m[1][0]==0):\n",
    "            primero= m.pop(0)#Sacamos\n",
    "            while True:\n",
    "                m=sorted(m, key=lambda v: abs(v[1]) if v[1]!=0 else 43567890709798676689698090790)\n",
    "                if(m[1][1]==0):\n",
    "                    m.insert(0,primero)\n",
    "                    return m\n",
    "                else:\n",
    "                    elemento= m.pop(0)\n",
    "                    for e in m:\n",
    "                        if e[1]!=0:\n",
    "                            division=floor(e[1]/elemento[1])\n",
    "                            resto=e[1]%elemento[1]\n",
    "                            e[1]=e[1]-elemento[1]*division\n",
    "                    else:\n",
    "                        m.insert(0,elemento)\n",
    "        else:\n",
    "            primero= m.pop(0)\n",
    "            for e in m:\n",
    "                if e[0]!=0:\n",
    "                    division=floor(e[0]/primero[0])\n",
    "                    resto=e[0]%primero[0]\n",
    "                    e[0]=resto\n",
    "                    e[1]=e[1]-primero[1]*division\n",
    "            else:\n",
    "                m.insert(0,primero)"
   ]
  },
  {
   "cell_type": "code",
   "execution_count": 3,
   "metadata": {
    "collapsed": true
   },
   "outputs": [],
   "source": [
    "#Calculamos la norma de un ideal\n",
    "def norma(Ideal,d):\n",
    "    if d%4!=1:\n",
    "        e=sqrt(d)\n",
    "    else:\n",
    "        e=(1+sqrt(d))/2\n",
    "    #Creamos las dos listas para trabajar \n",
    "    I=list()\n",
    "    elem=list()\n",
    "    for i in range(len(Ideal)):\n",
    "        I.append(tanmsm.xy(Ideal[i],d))\n",
    "        elem.append(simplify(I[i][0]*e+I[i][1]*sqrt(d)*e))\n",
    "    \n",
    "    m=list()\n",
    "    for i in Ideal:\n",
    "        m.append(list(tanmsm.ab(i,d)))\n",
    "    for i in elem:\n",
    "        m.append(list(tanmsm.ab(i,d)))\n",
    "\n",
    "    funcion=LR(m)\n",
    "    return abs(funcion[0][0]*funcion[1][1])"
   ]
  },
  {
   "cell_type": "code",
   "execution_count": 4,
   "metadata": {
    "collapsed": true
   },
   "outputs": [],
   "source": [
    "#Vemos si un ideal es total\n",
    "def esO(Ideal,d):\n",
    "    return norma(Ideal,d)==1 # Comprobamos si la norma es 1"
   ]
  },
  {
   "cell_type": "code",
   "execution_count": 5,
   "metadata": {
    "collapsed": true
   },
   "outputs": [],
   "source": [
    "#Comprobar si un elemento pertenece a un ideal\n",
    "def pertenece(elemento,Ideal,d):\n",
    "    if d%4!=1:\n",
    "        e=sqrt(d)\n",
    "    else:\n",
    "        e=(1+sqrt(d))/2\n",
    "    #Las dos listas para trabajar \n",
    "    I=list()\n",
    "    elem=list()\n",
    "    \n",
    "    if type(Ideal)==list:\n",
    "        for i in range(len(Ideal)):\n",
    "            I.append(tanmsm.xy(Ideal[i],d))\n",
    "            elem.append(simplify(I[i][0]*e+I[i][1]*sqrt(d)*e))\n",
    "    else:\n",
    "        I.append(tanmsm.xy(Ideal,d))\n",
    "        elem.append(simplify(I[0][0]*e+I[0][1]*sqrt(d)*e))      \n",
    "    \n",
    "    matriz=list()\n",
    "    \n",
    "    for i in Ideal:\n",
    "        matriz.append(list(tanmsm.ab(i,d)))\n",
    "    for i in elem:\n",
    "        matriz.append(list(tanmsm.ab(i,d)))\n",
    "        \n",
    "    funcion=LR(matriz)\n",
    "\n",
    "    entrada=list(tanmsm.ab(elemento,d))\n",
    "    x=(entrada[0]*1.0)/funcion[0][0]\n",
    "    y=(entrada[1]-funcion[0][1]*x)*1.0/funcion[1][1]\n",
    "\n",
    "    return ask(Q.integer(x)) and ask(Q.integer(y))"
   ]
  },
  {
   "cell_type": "code",
   "execution_count": 6,
   "metadata": {
    "collapsed": true
   },
   "outputs": [],
   "source": [
    "#Veamos si un ideal divide a otro\n",
    "def divide(A1,A2,d):\n",
    "    for e in A2:#Recorremos uno de los ideales y con el otro comprobamos\n",
    "        if not pertenece(e,A1,d):\n",
    "            return False\n",
    "    else:\n",
    "        return True"
   ]
  },
  {
   "cell_type": "code",
   "execution_count": 7,
   "metadata": {
    "collapsed": true
   },
   "outputs": [],
   "source": [
    "#Dos generados del producto de dos ideales \n",
    "def productodos(Ideal1,Ideal2,d):\n",
    "    lista=list()\n",
    "\n",
    "    for i in Ideal1:\n",
    "        for j in Ideal2:\n",
    "            lista.append(simplify(i*j))\n",
    "            \n",
    "    if d%4!=1:\n",
    "        e=sqrt(d)\n",
    "    else:\n",
    "        e=(1+sqrt(d))/2\n",
    "        \n",
    "    I=list()\n",
    "    elem=list()\n",
    "    \n",
    "    for i in range(len(lista)):\n",
    "        I.append(tanmsm.xy(lista[i],d))\n",
    "        elem.append(simplify(I[i][0]*e+I[i][1]*sqrt(d)*e))\n",
    "    matriz=list()\n",
    "    for a in lista:\n",
    "        matriz.append(list(tanmsm.ab(a,d)))\n",
    "\n",
    "    for b in elem:\n",
    "        matriz.append(list(tanmsm.ab(b,d)))\n",
    "\n",
    "    funcion=LR(matriz)\n",
    "    \n",
    "    return [funcion[0][0]+funcion[0][1]*e,funcion[1][1]*e]\n",
    "\n",
    "#Misma función que la anterior pero para una lista de ideales \n",
    "def producto(l_Ideales,d):\n",
    "    candidato=l_Ideales[0]\n",
    "    for i in range(1,len(l_Ideales)):#Recorro todos los ideales \n",
    "        candidato=productodos(l_Ideales[i],candidato,d)       \n",
    "    return candidato"
   ]
  },
  {
   "cell_type": "code",
   "execution_count": 8,
   "metadata": {
    "collapsed": true
   },
   "outputs": [],
   "source": [
    "def divisores(p,d):\n",
    "    if d%4!=1:\n",
    "        e=sqrt(d)\n",
    "    else:\n",
    "        e=(1+sqrt(d))/2\n",
    "    fp = poly(minimal_polynomial(e, \"x\"), modulus=p)\n",
    "    raiz = fp.ground_roots().keys()\n",
    "    \n",
    "    final=list()\n",
    "    if(raiz==[]):\n",
    "        final.append(p)\n",
    "    elif(len(raiz)==1):\n",
    "        final.append([p,e-raiz[0]])\n",
    "        final.append([p,e-raiz[0]])\n",
    "    else:\n",
    "        final.append([p,e-raiz[0]])\n",
    "        final.append([p,e-raiz[1]])\n",
    "        \n",
    "    return final"
   ]
  },
  {
   "cell_type": "code",
   "execution_count": 9,
   "metadata": {
    "collapsed": true
   },
   "outputs": [],
   "source": [
    "#Ver si es primo\n",
    "def es_primo(I,d):\n",
    "    mi_norma=norma(I,d)#Primero hacemos la norma \n",
    "    if(isprime(mi_norma)):#Si es primo directamente True\n",
    "        return True\n",
    "    elif(ask(Q.integer(sqrt(mi_norma)))):#Si no hacemos las comprobaciones hasta ver los divisores \n",
    "        if isprime(sqrt(mi_norma)):\n",
    "            if(pertenece(sqrt(mi_norma),I,d)):\n",
    "                return len(divisores(sqrt(mi_norma),d))==1\n",
    "            else:\n",
    "                return False\n",
    "        else:\n",
    "            return False\n",
    "    else:\n",
    "        return False"
   ]
  },
  {
   "cell_type": "code",
   "execution_count": 20,
   "metadata": {
    "collapsed": true
   },
   "outputs": [],
   "source": [
    "def cociente(Ideal,beta,d):\n",
    "    if(not es_primo(beta,d)):\n",
    "        return \"No es primo\"\n",
    "    elif(divide(beta,Ideal,d)):\n",
    "        final=list()\n",
    "        if(len(beta)==1):\n",
    "            for elem in Ideal:\n",
    "                final.append(elem*1.0/beta)\n",
    "            return final\n",
    "        else:\n",
    "            div=divisores(beta[0],d)\n",
    "            p=beta[0]\n",
    "            if(divide(beta,div[0],d) and divide(div[0],beta,d)):\n",
    "                e_generados=Ideal\n",
    "                prod=productodos(Ideal,div[1],d)\n",
    "                for elem in prod:\n",
    "                    e_generados.append(elem/p)\n",
    "\n",
    "            else:\n",
    "                e_generados=Ideal\n",
    "                prod=productodos(Ideal,div[0],d)\n",
    "                for el in prod:\n",
    "                    e_generados.append(el/p)\n",
    "               \n",
    "            if d%4!=1:\n",
    "                e=sqrt(d)\n",
    "            else:\n",
    "                e=(1+sqrt(d))/2\n",
    "\n",
    "            I=list()\n",
    "            elem=list()\n",
    "            for i in range(len(e_generados)):\n",
    "                I.append(tanmsm.xy(e_generados[i],d))\n",
    "                elem.append(simplify(I[i][0]*e+I[i][1]*sqrt(d)*e))\n",
    "\n",
    "            matriz=list()\n",
    "            for i in e_generados:\n",
    "                matriz.append(list(tanmsm.ab(i,d)))\n",
    "            for i in elem:\n",
    "                matriz.append(list(tanmsm.ab(i,d)))\n",
    "\n",
    "            funcion=LR(matriz)\n",
    "            \n",
    "            salida=[funcion[0][0]+funcion[0][1]*e,funcion[1][1]*e]\n",
    "            return salida\n",
    "\n",
    "    else:\n",
    "        return srt(beta)+ \" no divide a\" + srt(Ideal)"
   ]
  },
  {
   "cell_type": "markdown",
   "metadata": {},
   "source": [
    "## Algoritmo de factorización"
   ]
  },
  {
   "cell_type": "markdown",
   "metadata": {},
   "source": [
    "- ** Imput: ** Un ideal $I\\leq \\mathbb O$, o equivalentemente dos enteros $(\\alpha,\\beta)$ que lo generan.\n",
    "- ** Output: ** Una lista de ideales primos $[\\mathfrak P_1,\\ldots,\\mathfrak P_r]$ tal que $I=\\mathfrak P_1\\ldots \\mathfrak P_r$ o equivalentemente una lista de pares, los generadores de los ideales primos.\n",
    "\n",
    "\n",
    "   - ** Paso 1.-** Si $esO(I,d)=true$ fin, $I$ es el total.\n",
    "   - ** Paso 2.-** Si $es_primo(I,d)=true$ fin, la lista de divisores primos de $I$ es $[I]$.\n",
    "\n",
    "En otro caso:\n",
    "   - ** Paso 3.-** Calculamos la norma de $I$.\n",
    "   - ** Paso 4.-** Factorizamos la norma de $I$ en $\\mathbb Z$,  $$norma(I)=p_1 p_2\\ldots p_r.$$\n",
    "   - ** Paso 5.-** Fijamos el primer primo $p_1$ y calculamos la lista $L$ de ideales primos que dividen a $p_1$. Esta lista tiene un elemento, si $p_1$ es primo en $\\mathbb O$, o dos, si no lo es. \n",
    "   - ** Paso 6.-** Tomamos $\\mathfrak P\\in L$ comprobamos si $\\mathfrak P$ divide a $I$.\n",
    "   - ** Paso 7.-** Si $\\mathfrak P$ divide a $I$ en el **Paso 6**, añadimos $\\mathfrak P$ a la lista de divisores de $I$, tomamos \n",
    "   $$I=cociente(I,\\mathfrak P)$$\n",
    "      y volvemos al **Paso 1**. \n",
    "   - ** Paso 8.-** Si $\\mathfrak P$ no divide a $I$ en el **Paso 6** elejimos el siguiente $\\mathfrak P$ en $L$ y volvemos al **Paso 6**.\n",
    "\n",
    "El algoritmo acaba cuando $I$ es el total o un ideal primo."
   ]
  },
  {
   "cell_type": "markdown",
   "metadata": {},
   "source": [
    "###  Ejercicio1.-"
   ]
  },
  {
   "cell_type": "markdown",
   "metadata": {},
   "source": [
    "Los enteros $d$ de la lista $L$ siguiente son libres de cuadrados y el anillo de enteros de $\\mathbb Q (\\sqrt d)$ no es un DFU."
   ]
  },
  {
   "cell_type": "code",
   "execution_count": 31,
   "metadata": {
    "collapsed": false
   },
   "outputs": [],
   "source": [
    "L=[10, 15, 26, 30, 34, 35, 39, 42, 51, 55, 58, 65, 66, 70, 74, \n",
    "  78, 79, 82, 85, 87, 91, 95, 102, 105, 106, 110, 111, 114, \n",
    "  115, 119, 122, 123, 138, 142, 143, 145, 146, \n",
    "  154, 155, 159,  165, 170, 174, 178, 182, 183, 185, 186, \n",
    "  187, 190, 194, 195]"
   ]
  },
  {
   "cell_type": "markdown",
   "metadata": {},
   "source": [
    "- Toma $k$=tres últimas cifras de tu DNI módulo 196. \n",
    "- Toma $d_1$ y $d_2$ los números en $L$ más próximos a $k$ que sean congruente y no congruente con 1 módulo 4 respectivamente.\n",
    "- Elige ideales $I_1$ e $I_2$ en el anillo de enteros de  $\\mathbb Q (\\sqrt d_i), i=1,2$, cuyas normas tengan almenos tres factores, y factorizalos."
   ]
  },
  {
   "cell_type": "markdown",
   "metadata": {},
   "source": [
    "### Ejercicio 1"
   ]
  },
  {
   "cell_type": "markdown",
   "metadata": {},
   "source": [
    "Primero tomamos d1 y d2"
   ]
  },
  {
   "cell_type": "code",
   "execution_count": 32,
   "metadata": {
    "collapsed": false
   },
   "outputs": [
    {
     "name": "stdout",
     "output_type": "stream",
     "text": [
      "45\n"
     ]
    }
   ],
   "source": [
    "k=633%196\n",
    "print k"
   ]
  },
  {
   "cell_type": "code",
   "execution_count": 33,
   "metadata": {
    "collapsed": false
   },
   "outputs": [],
   "source": [
    "#Tomamos nuestro d1 como el congruente con 1 módulo 4 de la Lista L \n",
    "d1=65\n",
    "#Tomamos nuestro d2 como el no congruente con 1 módulo 4 de la Lista L \n",
    "d2=42"
   ]
  },
  {
   "cell_type": "code",
   "execution_count": 26,
   "metadata": {
    "collapsed": false
   },
   "outputs": [
    {
     "name": "stdout",
     "output_type": "stream",
     "text": [
      "[[2, 1/2 + sqrt(65)/2], [2, 1/2 + sqrt(65)/2], [2, 1/2 + sqrt(65)/2], [6522954319219030338555/2 + 6522954319219030338557*sqrt(65)/2, -sqrt(65) - 1]]\n"
     ]
    }
   ],
   "source": [
    "#Seguimos el algoritmo de factorizacion para los dos ideales elegidos para nuestros d\n",
    "div=list()\n",
    "d=d1\n",
    "Ideal=[ 7 + 1111*sqrt(d), 72*sqrt(d)]#Tomamos el primer ideal\n",
    "while True :\n",
    "    if(esO(Ideal,d)):\n",
    "        div.append(Ideal)        \n",
    "        print div\n",
    "        break\n",
    "    elif(es_primo(Ideal,d)):\n",
    "        div.append(Ideal)\n",
    "        print div\n",
    "        break\n",
    "    else:\n",
    "        nor=norma(Ideal,d)\n",
    "        factores=factorint(nor)\n",
    "        primo=factores.keys()[0]\n",
    "        L_fact=divisores(primo,d)\n",
    "        for elem in L_fact:\n",
    "            if(divide(elem,Ideal,d)):\n",
    "                div.append(elem)\n",
    "                Ideal=cociente(Ideal,elem,d)\n",
    "                break   "
   ]
  },
  {
   "cell_type": "code",
   "execution_count": 27,
   "metadata": {
    "collapsed": false
   },
   "outputs": [
    {
     "name": "stdout",
     "output_type": "stream",
     "text": [
      "[[2, sqrt(42)], [2, sqrt(42)], [-14324979*sqrt(42) + 3, sqrt(42)]]\n"
     ]
    }
   ],
   "source": [
    "#Seguimos el algoritmo de factorizacion para los dos ideales elegidos para nuestros d\n",
    "div=list()\n",
    "d=d2\n",
    "Ideal=[ 54 + 3524*sqrt(d), 20*sqrt(d)]#Otro ideal\n",
    "while True :\n",
    "    if(esO(Ideal,d)):\n",
    "        div.append(Ideal)        \n",
    "        print div\n",
    "        break\n",
    "    elif(es_primo(Ideal,d)):\n",
    "        div.append(Ideal)\n",
    "        print div\n",
    "        break\n",
    "    else:\n",
    "        nor=norma(Ideal,d)\n",
    "        factores=factorint(nor)\n",
    "        primo=factores.keys()[0]\n",
    "        L_fact=divisores(primo,d)\n",
    "        for elem in L_fact:\n",
    "            if(divide(elem,Ideal,d)):\n",
    "                div.append(elem)\n",
    "                Ideal=cociente(Ideal,elem,d)\n",
    "                break  "
   ]
  },
  {
   "cell_type": "markdown",
   "metadata": {},
   "source": [
    "Realizamos el producto con lo obtenido en d2"
   ]
  },
  {
   "cell_type": "code",
   "execution_count": 28,
   "metadata": {
    "collapsed": false
   },
   "outputs": [
    {
     "data": {
      "text/plain": [
       "[-28649958*sqrt(42) + 6, 2*sqrt(42)]"
      ]
     },
     "execution_count": 28,
     "metadata": {},
     "output_type": "execute_result"
    }
   ],
   "source": [
    "producto([[2, sqrt(42)], [2, sqrt(42)], [-14324979*sqrt(42) + 3, sqrt(42)]],42)"
   ]
  },
  {
   "cell_type": "code",
   "execution_count": 30,
   "metadata": {
    "collapsed": true
   },
   "outputs": [],
   "source": [
    "#Definimos una función auxiliar que nos permita comprobar que nuestro calculos estan correctos\n",
    "def aux(A1,A2,d):\n",
    "    return divide(A1,A2,d) and divide (A2,A1,d)"
   ]
  },
  {
   "cell_type": "code",
   "execution_count": null,
   "metadata": {
    "collapsed": true
   },
   "outputs": [],
   "source": [
    "aux([-28649958*sqrt(42) + 6, 2*sqrt(42)],[ 54 + 3524*sqrt(d), 20*sqrt(d)],42)"
   ]
  },
  {
   "cell_type": "markdown",
   "metadata": {},
   "source": [
    "Como vemos es True y por tanto realiza bien los cálculos "
   ]
  },
  {
   "cell_type": "markdown",
   "metadata": {
    "collapsed": true
   },
   "source": [
    "### Ejercicio 2 (Avanzado).-"
   ]
  },
  {
   "cell_type": "markdown",
   "metadata": {},
   "source": [
    "Define una función <span style=\"color:red\">factoriza_id</span> para factorizar ideales. Comprueba que obtienes los mismos resultados que has obtenido en el ejercicio 1."
   ]
  },
  {
   "cell_type": "code",
   "execution_count": null,
   "metadata": {
    "collapsed": true
   },
   "outputs": [],
   "source": []
  }
 ],
 "metadata": {
  "kernelspec": {
   "display_name": "Python 2",
   "language": "python",
   "name": "python2"
  },
  "language_info": {
   "codemirror_mode": {
    "name": "ipython",
    "version": 2
   },
   "file_extension": ".py",
   "mimetype": "text/x-python",
   "name": "python",
   "nbconvert_exporter": "python",
   "pygments_lexer": "ipython2",
   "version": "2.7.11"
  }
 },
 "nbformat": 4,
 "nbformat_minor": 0
}
